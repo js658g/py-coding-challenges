{
 "cells": [
  {
   "cell_type": "markdown",
   "id": "c5a25569",
   "metadata": {
    "papermill": {
     "duration": 0.003341,
     "end_time": "2024-12-27T13:04:15.041816",
     "exception": false,
     "start_time": "2024-12-27T13:04:15.038475",
     "status": "completed"
    },
    "tags": []
   },
   "source": [
    "# 🐥 AIMO Random\n",
    "[![Open in Colab](https://colab.research.google.com/assets/colab-badge.svg)](https://colab.research.google.com/github/MYTE21/AIMO/blob/absol/notebooks/random/aimo_random.ipynb)\n",
    "\n",
    "* 📒 **Reference Notebook:** [🔗 🐣 AIMO Zero](https://www.kaggle.com/code/myte21/aimo-zero)."
   ]
  },
  {
   "cell_type": "markdown",
   "id": "d3f842f4",
   "metadata": {
    "papermill": {
     "duration": 0.002459,
     "end_time": "2024-12-27T13:04:15.047419",
     "exception": false,
     "start_time": "2024-12-27T13:04:15.044960",
     "status": "completed"
    },
    "tags": []
   },
   "source": [
    "## ⚙️ Imports\n",
    "Import the necessary libraries and packages."
   ]
  },
  {
   "cell_type": "code",
   "execution_count": 1,
   "id": "596bb21b",
   "metadata": {
    "execution": {
     "iopub.execute_input": "2024-12-27T13:04:15.054025Z",
     "iopub.status.busy": "2024-12-27T13:04:15.053692Z",
     "iopub.status.idle": "2024-12-27T13:04:15.896309Z",
     "shell.execute_reply": "2024-12-27T13:04:15.895219Z"
    },
    "papermill": {
     "duration": 0.848133,
     "end_time": "2024-12-27T13:04:15.898176",
     "exception": false,
     "start_time": "2024-12-27T13:04:15.050043",
     "status": "completed"
    },
    "tags": []
   },
   "outputs": [],
   "source": [
    "# Libraries: Standard\n",
    "import os\n",
    "\n",
    "# Libraries: External\n",
    "import pandas as pd\n",
    "import polars as pl\n",
    "import kaggle_evaluation.aimo_2_inference_server\n",
    "\n",
    "# Packages: Standard\n",
    "import random"
   ]
  },
  {
   "cell_type": "markdown",
   "id": "a56c9629",
   "metadata": {
    "papermill": {
     "duration": 0.003011,
     "end_time": "2024-12-27T13:04:15.904414",
     "exception": false,
     "start_time": "2024-12-27T13:04:15.901403",
     "status": "completed"
    },
    "tags": []
   },
   "source": [
    "## 🦁 Model Creation\n",
    "This is a basic model designed to return $0$ as the solution to any mathematical problem."
   ]
  },
  {
   "cell_type": "code",
   "execution_count": 2,
   "id": "43ecfd9b",
   "metadata": {
    "execution": {
     "iopub.execute_input": "2024-12-27T13:04:15.912168Z",
     "iopub.status.busy": "2024-12-27T13:04:15.911590Z",
     "iopub.status.idle": "2024-12-27T13:04:15.916921Z",
     "shell.execute_reply": "2024-12-27T13:04:15.915864Z"
    },
    "papermill": {
     "duration": 0.010893,
     "end_time": "2024-12-27T13:04:15.918573",
     "exception": false,
     "start_time": "2024-12-27T13:04:15.907680",
     "status": "completed"
    },
    "tags": []
   },
   "outputs": [],
   "source": [
    "def get_answer(que: str) -> int:\n",
    "    return random.randint(0, 999)"
   ]
  },
  {
   "cell_type": "markdown",
   "id": "01e1c5fd",
   "metadata": {
    "papermill": {
     "duration": 0.002456,
     "end_time": "2024-12-27T13:04:15.923922",
     "exception": false,
     "start_time": "2024-12-27T13:04:15.921466",
     "status": "completed"
    },
    "tags": []
   },
   "source": [
    "## 🎯 Inference\n",
    "Use the trained machine learning model to make predictions based on new data."
   ]
  },
  {
   "cell_type": "code",
   "execution_count": 3,
   "id": "db361f19",
   "metadata": {
    "execution": {
     "iopub.execute_input": "2024-12-27T13:04:15.930581Z",
     "iopub.status.busy": "2024-12-27T13:04:15.930252Z",
     "iopub.status.idle": "2024-12-27T13:04:15.935807Z",
     "shell.execute_reply": "2024-12-27T13:04:15.934629Z"
    },
    "papermill": {
     "duration": 0.010784,
     "end_time": "2024-12-27T13:04:15.937479",
     "exception": false,
     "start_time": "2024-12-27T13:04:15.926695",
     "status": "completed"
    },
    "tags": []
   },
   "outputs": [
    {
     "name": "stdout",
     "output_type": "stream",
     "text": [
      "The answer to the question: 526.\n"
     ]
    }
   ],
   "source": [
    "question = \"What is $1-1$?\"\n",
    "\n",
    "answer = get_answer(question)\n",
    "print(f\"The answer to the question: {answer}.\")"
   ]
  },
  {
   "cell_type": "markdown",
   "id": "d6bf865c",
   "metadata": {
    "papermill": {
     "duration": 0.002565,
     "end_time": "2024-12-27T13:04:15.943044",
     "exception": false,
     "start_time": "2024-12-27T13:04:15.940479",
     "status": "completed"
    },
    "tags": []
   },
   "source": [
    "## 🪁 Make Prediction¶\n",
    "Create a prediction method for submission."
   ]
  },
  {
   "cell_type": "code",
   "execution_count": 4,
   "id": "53aad482",
   "metadata": {
    "execution": {
     "iopub.execute_input": "2024-12-27T13:04:15.949862Z",
     "iopub.status.busy": "2024-12-27T13:04:15.949517Z",
     "iopub.status.idle": "2024-12-27T13:04:15.954305Z",
     "shell.execute_reply": "2024-12-27T13:04:15.953288Z"
    },
    "papermill": {
     "duration": 0.010115,
     "end_time": "2024-12-27T13:04:15.955941",
     "exception": false,
     "start_time": "2024-12-27T13:04:15.945826",
     "status": "completed"
    },
    "tags": []
   },
   "outputs": [],
   "source": [
    "def predict(id_: pl.DataFrame, question: pl.DataFrame) -> pl.DataFrame | pd.DataFrame:\n",
    "    id_ = id_.item(0)\n",
    "    question = question.item(0)\n",
    "    \n",
    "    prediction = get_answer(question)\n",
    "    return pl.DataFrame({\"id\": id_, \"answer\": prediction})"
   ]
  },
  {
   "cell_type": "markdown",
   "id": "e7cbbc0f",
   "metadata": {
    "papermill": {
     "duration": 0.002656,
     "end_time": "2024-12-27T13:04:15.961684",
     "exception": false,
     "start_time": "2024-12-27T13:04:15.959028",
     "status": "completed"
    },
    "tags": []
   },
   "source": [
    "<div style = \"border: 2px solid #4B0082; padding: 5px 10px; border-radius: 10px;\">\n",
    "⚓️ Extend the model's loading time if necessary. ⤵️\n",
    "</div>"
   ]
  },
  {
   "cell_type": "code",
   "execution_count": 5,
   "id": "8c8f1379",
   "metadata": {
    "execution": {
     "iopub.execute_input": "2024-12-27T13:04:15.968506Z",
     "iopub.status.busy": "2024-12-27T13:04:15.968129Z",
     "iopub.status.idle": "2024-12-27T13:04:16.336413Z",
     "shell.execute_reply": "2024-12-27T13:04:16.335141Z"
    },
    "papermill": {
     "duration": 0.374033,
     "end_time": "2024-12-27T13:04:16.338555",
     "exception": false,
     "start_time": "2024-12-27T13:04:15.964522",
     "status": "completed"
    },
    "tags": []
   },
   "outputs": [],
   "source": [
    "inference_server = kaggle_evaluation.aimo_2_inference_server.AIMO2InferenceServer(predict)\n",
    "\n",
    "if os.getenv('KAGGLE_IS_COMPETITION_RERUN'):\n",
    "    inference_server.serve()\n",
    "else:\n",
    "    inference_server.run_local_gateway(\n",
    "        (\n",
    "            \"/kaggle/input/ai-mathematical-olympiad-progress-prize-2/test.csv\",\n",
    "        )\n",
    "    )"
   ]
  },
  {
   "cell_type": "markdown",
   "id": "0fa44b24",
   "metadata": {
    "papermill": {
     "duration": 0.002754,
     "end_time": "2024-12-27T13:04:16.344475",
     "exception": false,
     "start_time": "2024-12-27T13:04:16.341721",
     "status": "completed"
    },
    "tags": []
   },
   "source": [
    "<div style = \"border: 2px solid #4B0082; padding: 5px 10px; border-radius: 10px;\">\n",
    "🎉 Congratulations! The AIMO Random is complete!\n",
    "</div>"
   ]
  }
 ],
 "metadata": {
  "kaggle": {
   "accelerator": "none",
   "dataSources": [
    {
     "databundleVersionId": 9869096,
     "sourceId": 86023,
     "sourceType": "competition"
    }
   ],
   "dockerImageVersionId": 30822,
   "isGpuEnabled": false,
   "isInternetEnabled": false,
   "language": "python",
   "sourceType": "notebook"
  },
  "kernelspec": {
   "display_name": "Python 3",
   "language": "python",
   "name": "python3"
  },
  "language_info": {
   "codemirror_mode": {
    "name": "ipython",
    "version": 3
   },
   "file_extension": ".py",
   "mimetype": "text/x-python",
   "name": "python",
   "nbconvert_exporter": "python",
   "pygments_lexer": "ipython3",
   "version": "3.10.12"
  },
  "papermill": {
   "default_parameters": {},
   "duration": 4.003502,
   "end_time": "2024-12-27T13:04:16.866459",
   "environment_variables": {},
   "exception": null,
   "input_path": "__notebook__.ipynb",
   "output_path": "__notebook__.ipynb",
   "parameters": {},
   "start_time": "2024-12-27T13:04:12.862957",
   "version": "2.6.0"
  }
 },
 "nbformat": 4,
 "nbformat_minor": 5
}
