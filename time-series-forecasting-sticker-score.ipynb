{
 "cells": [
  {
   "cell_type": "markdown",
   "id": "5d7e85ed",
   "metadata": {
    "papermill": {
     "duration": 0.011921,
     "end_time": "2025-01-13T07:09:33.312837",
     "exception": false,
     "start_time": "2025-01-13T07:09:33.300916",
     "status": "completed"
    },
    "tags": []
   },
   "source": [
    "# Import Libraries "
   ]
  },
  {
   "cell_type": "code",
   "execution_count": 1,
   "id": "5e5e2e06",
   "metadata": {
    "execution": {
     "iopub.execute_input": "2025-01-13T07:09:33.336001Z",
     "iopub.status.busy": "2025-01-13T07:09:33.335612Z",
     "iopub.status.idle": "2025-01-13T07:09:38.936327Z",
     "shell.execute_reply": "2025-01-13T07:09:38.935189Z"
    },
    "papermill": {
     "duration": 5.614372,
     "end_time": "2025-01-13T07:09:38.938379",
     "exception": false,
     "start_time": "2025-01-13T07:09:33.324007",
     "status": "completed"
    },
    "tags": []
   },
   "outputs": [],
   "source": [
    "# Essential Libraries\n",
    "import numpy as np\n",
    "import pandas as pd\n",
    "\n",
    "# Visualization Libraries\n",
    "import matplotlib.pyplot as plt\n",
    "import seaborn as sns\n",
    "\n",
    "# Preprocessing\n",
    "from sklearn.preprocessing import LabelEncoder\n",
    "\n",
    "# Model Selection and Evaluation\n",
    "from sklearn.model_selection import GridSearchCV, TimeSeriesSplit\n",
    "from sklearn.metrics import mean_squared_error, mean_absolute_error, mean_absolute_percentage_error\n",
    "\n",
    "\n",
    "# Visualization Libraries\n",
    "import matplotlib.pyplot as plt\n",
    "import seaborn as sns\n",
    "\n",
    "# Preprocessing\n",
    "from sklearn.preprocessing import LabelEncoder\n",
    "from category_encoders import TargetEncoder\n",
    "from sklearn.preprocessing import PolynomialFeatures\n",
    "\n",
    "# Model Selection and Evaluation\n",
    "from sklearn.model_selection import GroupKFold\n",
    "from sklearn.model_selection import GridSearchCV, TimeSeriesSplit\n",
    "from sklearn.metrics import mean_squared_error, mean_absolute_error, mean_absolute_percentage_error\n",
    "import optuna\n",
    "\n",
    "# Model\n",
    "from lightgbm import LGBMRegressor\n",
    "\n",
    "\n",
    "# Suppress Warnings\n",
    "import warnings\n",
    "warnings.filterwarnings(\"ignore\")"
   ]
  },
  {
   "cell_type": "markdown",
   "id": "66e48b43",
   "metadata": {
    "papermill": {
     "duration": 0.010663,
     "end_time": "2025-01-13T07:09:38.959965",
     "exception": false,
     "start_time": "2025-01-13T07:09:38.949302",
     "status": "completed"
    },
    "tags": []
   },
   "source": [
    "# Load Data"
   ]
  },
  {
   "cell_type": "code",
   "execution_count": 2,
   "id": "ae1abd92",
   "metadata": {
    "execution": {
     "iopub.execute_input": "2025-01-13T07:09:38.982954Z",
     "iopub.status.busy": "2025-01-13T07:09:38.982205Z",
     "iopub.status.idle": "2025-01-13T07:09:39.602014Z",
     "shell.execute_reply": "2025-01-13T07:09:39.600936Z"
    },
    "papermill": {
     "duration": 0.633782,
     "end_time": "2025-01-13T07:09:39.604045",
     "exception": false,
     "start_time": "2025-01-13T07:09:38.970263",
     "status": "completed"
    },
    "tags": []
   },
   "outputs": [],
   "source": [
    "train = pd.read_csv('/kaggle/input/playground-series-s5e1/train.csv')\n",
    "test  = pd.read_csv('/kaggle/input/playground-series-s5e1/test.csv')\n",
    "\n",
    "# add the 'dataset' column to distinguish train and test data\n",
    "train['dataset'] = 'train'\n",
    "test['dataset'] = 'test'\n",
    "\n",
    "# train['num_sold'].fillna(method='ffill', inplace=True)\n",
    "\n",
    "# concatenate the datasets with the added 'dataset' column\n",
    "df = pd.concat([train, test], axis=0).reset_index(drop=True)"
   ]
  },
  {
   "cell_type": "markdown",
   "id": "668b8981",
   "metadata": {
    "papermill": {
     "duration": 0.010171,
     "end_time": "2025-01-13T07:09:39.625497",
     "exception": false,
     "start_time": "2025-01-13T07:09:39.615326",
     "status": "completed"
    },
    "tags": []
   },
   "source": [
    "# Exploratory Data Analysis (EDA)"
   ]
  },
  {
   "cell_type": "code",
   "execution_count": 3,
   "id": "f21188c8",
   "metadata": {
    "execution": {
     "iopub.execute_input": "2025-01-13T07:09:39.647640Z",
     "iopub.status.busy": "2025-01-13T07:09:39.647193Z",
     "iopub.status.idle": "2025-01-13T07:09:39.669532Z",
     "shell.execute_reply": "2025-01-13T07:09:39.668579Z"
    },
    "papermill": {
     "duration": 0.035549,
     "end_time": "2025-01-13T07:09:39.671444",
     "exception": false,
     "start_time": "2025-01-13T07:09:39.635895",
     "status": "completed"
    },
    "tags": []
   },
   "outputs": [
    {
     "data": {
      "text/html": [
       "<div>\n",
       "<style scoped>\n",
       "    .dataframe tbody tr th:only-of-type {\n",
       "        vertical-align: middle;\n",
       "    }\n",
       "\n",
       "    .dataframe tbody tr th {\n",
       "        vertical-align: top;\n",
       "    }\n",
       "\n",
       "    .dataframe thead th {\n",
       "        text-align: right;\n",
       "    }\n",
       "</style>\n",
       "<table border=\"1\" class=\"dataframe\">\n",
       "  <thead>\n",
       "    <tr style=\"text-align: right;\">\n",
       "      <th></th>\n",
       "      <th>id</th>\n",
       "      <th>date</th>\n",
       "      <th>country</th>\n",
       "      <th>store</th>\n",
       "      <th>product</th>\n",
       "      <th>num_sold</th>\n",
       "      <th>dataset</th>\n",
       "    </tr>\n",
       "  </thead>\n",
       "  <tbody>\n",
       "    <tr>\n",
       "      <th>0</th>\n",
       "      <td>0</td>\n",
       "      <td>2010-01-01</td>\n",
       "      <td>Canada</td>\n",
       "      <td>Discount Stickers</td>\n",
       "      <td>Holographic Goose</td>\n",
       "      <td>NaN</td>\n",
       "      <td>train</td>\n",
       "    </tr>\n",
       "    <tr>\n",
       "      <th>1</th>\n",
       "      <td>1</td>\n",
       "      <td>2010-01-01</td>\n",
       "      <td>Canada</td>\n",
       "      <td>Discount Stickers</td>\n",
       "      <td>Kaggle</td>\n",
       "      <td>973.0</td>\n",
       "      <td>train</td>\n",
       "    </tr>\n",
       "    <tr>\n",
       "      <th>2</th>\n",
       "      <td>2</td>\n",
       "      <td>2010-01-01</td>\n",
       "      <td>Canada</td>\n",
       "      <td>Discount Stickers</td>\n",
       "      <td>Kaggle Tiers</td>\n",
       "      <td>906.0</td>\n",
       "      <td>train</td>\n",
       "    </tr>\n",
       "    <tr>\n",
       "      <th>3</th>\n",
       "      <td>3</td>\n",
       "      <td>2010-01-01</td>\n",
       "      <td>Canada</td>\n",
       "      <td>Discount Stickers</td>\n",
       "      <td>Kerneler</td>\n",
       "      <td>423.0</td>\n",
       "      <td>train</td>\n",
       "    </tr>\n",
       "    <tr>\n",
       "      <th>4</th>\n",
       "      <td>4</td>\n",
       "      <td>2010-01-01</td>\n",
       "      <td>Canada</td>\n",
       "      <td>Discount Stickers</td>\n",
       "      <td>Kerneler Dark Mode</td>\n",
       "      <td>491.0</td>\n",
       "      <td>train</td>\n",
       "    </tr>\n",
       "    <tr>\n",
       "      <th>...</th>\n",
       "      <td>...</td>\n",
       "      <td>...</td>\n",
       "      <td>...</td>\n",
       "      <td>...</td>\n",
       "      <td>...</td>\n",
       "      <td>...</td>\n",
       "      <td>...</td>\n",
       "    </tr>\n",
       "    <tr>\n",
       "      <th>328675</th>\n",
       "      <td>328675</td>\n",
       "      <td>2019-12-31</td>\n",
       "      <td>Singapore</td>\n",
       "      <td>Premium Sticker Mart</td>\n",
       "      <td>Holographic Goose</td>\n",
       "      <td>NaN</td>\n",
       "      <td>test</td>\n",
       "    </tr>\n",
       "    <tr>\n",
       "      <th>328676</th>\n",
       "      <td>328676</td>\n",
       "      <td>2019-12-31</td>\n",
       "      <td>Singapore</td>\n",
       "      <td>Premium Sticker Mart</td>\n",
       "      <td>Kaggle</td>\n",
       "      <td>NaN</td>\n",
       "      <td>test</td>\n",
       "    </tr>\n",
       "    <tr>\n",
       "      <th>328677</th>\n",
       "      <td>328677</td>\n",
       "      <td>2019-12-31</td>\n",
       "      <td>Singapore</td>\n",
       "      <td>Premium Sticker Mart</td>\n",
       "      <td>Kaggle Tiers</td>\n",
       "      <td>NaN</td>\n",
       "      <td>test</td>\n",
       "    </tr>\n",
       "    <tr>\n",
       "      <th>328678</th>\n",
       "      <td>328678</td>\n",
       "      <td>2019-12-31</td>\n",
       "      <td>Singapore</td>\n",
       "      <td>Premium Sticker Mart</td>\n",
       "      <td>Kerneler</td>\n",
       "      <td>NaN</td>\n",
       "      <td>test</td>\n",
       "    </tr>\n",
       "    <tr>\n",
       "      <th>328679</th>\n",
       "      <td>328679</td>\n",
       "      <td>2019-12-31</td>\n",
       "      <td>Singapore</td>\n",
       "      <td>Premium Sticker Mart</td>\n",
       "      <td>Kerneler Dark Mode</td>\n",
       "      <td>NaN</td>\n",
       "      <td>test</td>\n",
       "    </tr>\n",
       "  </tbody>\n",
       "</table>\n",
       "<p>328680 rows × 7 columns</p>\n",
       "</div>"
      ],
      "text/plain": [
       "            id        date    country                 store  \\\n",
       "0            0  2010-01-01     Canada     Discount Stickers   \n",
       "1            1  2010-01-01     Canada     Discount Stickers   \n",
       "2            2  2010-01-01     Canada     Discount Stickers   \n",
       "3            3  2010-01-01     Canada     Discount Stickers   \n",
       "4            4  2010-01-01     Canada     Discount Stickers   \n",
       "...        ...         ...        ...                   ...   \n",
       "328675  328675  2019-12-31  Singapore  Premium Sticker Mart   \n",
       "328676  328676  2019-12-31  Singapore  Premium Sticker Mart   \n",
       "328677  328677  2019-12-31  Singapore  Premium Sticker Mart   \n",
       "328678  328678  2019-12-31  Singapore  Premium Sticker Mart   \n",
       "328679  328679  2019-12-31  Singapore  Premium Sticker Mart   \n",
       "\n",
       "                   product  num_sold dataset  \n",
       "0        Holographic Goose       NaN   train  \n",
       "1                   Kaggle     973.0   train  \n",
       "2             Kaggle Tiers     906.0   train  \n",
       "3                 Kerneler     423.0   train  \n",
       "4       Kerneler Dark Mode     491.0   train  \n",
       "...                    ...       ...     ...  \n",
       "328675   Holographic Goose       NaN    test  \n",
       "328676              Kaggle       NaN    test  \n",
       "328677        Kaggle Tiers       NaN    test  \n",
       "328678            Kerneler       NaN    test  \n",
       "328679  Kerneler Dark Mode       NaN    test  \n",
       "\n",
       "[328680 rows x 7 columns]"
      ]
     },
     "execution_count": 3,
     "metadata": {},
     "output_type": "execute_result"
    }
   ],
   "source": [
    "df"
   ]
  },
  {
   "cell_type": "code",
   "execution_count": 4,
   "id": "6106c1c3",
   "metadata": {
    "execution": {
     "iopub.execute_input": "2025-01-13T07:09:39.694456Z",
     "iopub.status.busy": "2025-01-13T07:09:39.694106Z",
     "iopub.status.idle": "2025-01-13T07:09:39.700098Z",
     "shell.execute_reply": "2025-01-13T07:09:39.698873Z"
    },
    "papermill": {
     "duration": 0.019916,
     "end_time": "2025-01-13T07:09:39.702299",
     "exception": false,
     "start_time": "2025-01-13T07:09:39.682383",
     "status": "completed"
    },
    "tags": []
   },
   "outputs": [
    {
     "data": {
      "text/plain": [
       "(328680, 7)"
      ]
     },
     "execution_count": 4,
     "metadata": {},
     "output_type": "execute_result"
    }
   ],
   "source": [
    "# Checking the shape of the combined dataset (number of rows and columns)\n",
    "\n",
    "df.shape"
   ]
  },
  {
   "cell_type": "code",
   "execution_count": 5,
   "id": "7201c544",
   "metadata": {
    "execution": {
     "iopub.execute_input": "2025-01-13T07:09:39.735558Z",
     "iopub.status.busy": "2025-01-13T07:09:39.735098Z",
     "iopub.status.idle": "2025-01-13T07:09:39.836663Z",
     "shell.execute_reply": "2025-01-13T07:09:39.835402Z"
    },
    "papermill": {
     "duration": 0.119519,
     "end_time": "2025-01-13T07:09:39.838841",
     "exception": false,
     "start_time": "2025-01-13T07:09:39.719322",
     "status": "completed"
    },
    "tags": []
   },
   "outputs": [
    {
     "name": "stdout",
     "output_type": "stream",
     "text": [
      "<class 'pandas.core.frame.DataFrame'>\n",
      "RangeIndex: 328680 entries, 0 to 328679\n",
      "Data columns (total 7 columns):\n",
      " #   Column    Non-Null Count   Dtype  \n",
      "---  ------    --------------   -----  \n",
      " 0   id        328680 non-null  int64  \n",
      " 1   date      328680 non-null  object \n",
      " 2   country   328680 non-null  object \n",
      " 3   store     328680 non-null  object \n",
      " 4   product   328680 non-null  object \n",
      " 5   num_sold  221259 non-null  float64\n",
      " 6   dataset   328680 non-null  object \n",
      "dtypes: float64(1), int64(1), object(5)\n",
      "memory usage: 17.6+ MB\n"
     ]
    }
   ],
   "source": [
    "# Displaying data types and non-null counts for each column to understand data structure\n",
    "\n",
    "df.info()"
   ]
  },
  {
   "cell_type": "markdown",
   "id": "63fe5cf7",
   "metadata": {
    "execution": {
     "iopub.execute_input": "2025-01-03T09:31:05.092203Z",
     "iopub.status.busy": "2025-01-03T09:31:05.091745Z",
     "iopub.status.idle": "2025-01-03T09:31:05.147872Z",
     "shell.execute_reply": "2025-01-03T09:31:05.146931Z",
     "shell.execute_reply.started": "2025-01-03T09:31:05.092169Z"
    },
    "papermill": {
     "duration": 0.015588,
     "end_time": "2025-01-13T07:09:39.867525",
     "exception": false,
     "start_time": "2025-01-13T07:09:39.851937",
     "status": "completed"
    },
    "tags": []
   },
   "source": [
    "## Check for Missing Values"
   ]
  },
  {
   "cell_type": "code",
   "execution_count": 6,
   "id": "09a75d1c",
   "metadata": {
    "execution": {
     "iopub.execute_input": "2025-01-13T07:09:39.901121Z",
     "iopub.status.busy": "2025-01-13T07:09:39.900732Z",
     "iopub.status.idle": "2025-01-13T07:09:39.989486Z",
     "shell.execute_reply": "2025-01-13T07:09:39.988385Z"
    },
    "papermill": {
     "duration": 0.104633,
     "end_time": "2025-01-13T07:09:39.991176",
     "exception": false,
     "start_time": "2025-01-13T07:09:39.886543",
     "status": "completed"
    },
    "tags": []
   },
   "outputs": [
    {
     "data": {
      "text/plain": [
       "id               0\n",
       "date             0\n",
       "country          0\n",
       "store            0\n",
       "product          0\n",
       "num_sold    107421\n",
       "dataset          0\n",
       "dtype: int64"
      ]
     },
     "execution_count": 6,
     "metadata": {},
     "output_type": "execute_result"
    }
   ],
   "source": [
    "# Checking for missing values in the dataset\n",
    "\n",
    "df.isnull().sum()"
   ]
  },
  {
   "cell_type": "markdown",
   "id": "bcfb24a2",
   "metadata": {
    "papermill": {
     "duration": 0.013741,
     "end_time": "2025-01-13T07:09:40.016031",
     "exception": false,
     "start_time": "2025-01-13T07:09:40.002290",
     "status": "completed"
    },
    "tags": []
   },
   "source": [
    "## Convert Data Types"
   ]
  },
  {
   "cell_type": "code",
   "execution_count": 7,
   "id": "1977c8a0",
   "metadata": {
    "execution": {
     "iopub.execute_input": "2025-01-13T07:09:40.047020Z",
     "iopub.status.busy": "2025-01-13T07:09:40.046525Z",
     "iopub.status.idle": "2025-01-13T07:09:40.093339Z",
     "shell.execute_reply": "2025-01-13T07:09:40.092104Z"
    },
    "papermill": {
     "duration": 0.062966,
     "end_time": "2025-01-13T07:09:40.095343",
     "exception": false,
     "start_time": "2025-01-13T07:09:40.032377",
     "status": "completed"
    },
    "tags": []
   },
   "outputs": [],
   "source": [
    "# Convert the date column from object to datetime for time-series analysis.\n",
    "\n",
    "df['date'] = pd.to_datetime(df['date'])"
   ]
  },
  {
   "cell_type": "markdown",
   "id": "db8955bf",
   "metadata": {
    "papermill": {
     "duration": 0.011318,
     "end_time": "2025-01-13T07:09:40.117958",
     "exception": false,
     "start_time": "2025-01-13T07:09:40.106640",
     "status": "completed"
    },
    "tags": []
   },
   "source": [
    "### Extract Useful Date Features"
   ]
  },
  {
   "cell_type": "code",
   "execution_count": 8,
   "id": "63ed0c9b",
   "metadata": {
    "execution": {
     "iopub.execute_input": "2025-01-13T07:09:40.143118Z",
     "iopub.status.busy": "2025-01-13T07:09:40.142665Z",
     "iopub.status.idle": "2025-01-13T07:09:40.300698Z",
     "shell.execute_reply": "2025-01-13T07:09:40.299456Z"
    },
    "papermill": {
     "duration": 0.172762,
     "end_time": "2025-01-13T07:09:40.303079",
     "exception": false,
     "start_time": "2025-01-13T07:09:40.130317",
     "status": "completed"
    },
    "tags": []
   },
   "outputs": [],
   "source": [
    "# Extracting time-based features (month, day of the week, quarter, etc.)\n",
    "# Applying cyclic transformations to handle periodicity in features\n",
    "\n",
    "df['month'] = df['date'].dt.month\n",
    "df['dayofweek'] = df['date'].dt.dayofweek\n",
    "# df['dayofyear'] = df['date'].dt.dayofyear\n",
    "df['quarter'] = df['date'].dt.quarter\n",
    "df['weekofyear'] = df['date'].dt.isocalendar().week #Week of the year\n",
    "df['year'] = df['date'].dt.year\n",
    "df['day'] = df['date'].dt.day\n",
    "\n",
    "# Apply sine and cosine transformations to cyclical features\n",
    "df['month_sin'] = np.sin(2 * np.pi * df['month'] / 12)\n",
    "df['month_cos'] = np.cos(2 * np.pi * df['month'] / 12)\n",
    "\n",
    "df['day_sin'] = np.sin(2 * np.pi * df['day'] / 31)  # Assuming 31 days max\n",
    "df['day_cos'] = np.cos(2 * np.pi * df['day'] / 31)\n",
    "\n",
    "df['day_of_week_sin'] = np.sin(2 * np.pi * df['dayofweek'] / 7)\n",
    "df['day_of_week_cos'] = np.cos(2 * np.pi * df['dayofweek'] / 7)\n",
    "\n",
    "df['week_of_year_sin'] = np.sin(2 * np.pi * df['weekofyear'] / 52)\n",
    "df['week_of_year_cos'] = np.cos(2 * np.pi * df['weekofyear'] / 52)\n",
    "\n",
    "df['Group'] = (df['year'] - 2010) * 48 + df['month'] * 4 + df['day'] // 7"
   ]
  },
  {
   "cell_type": "markdown",
   "id": "87e1d590",
   "metadata": {
    "papermill": {
     "duration": 0.017587,
     "end_time": "2025-01-13T07:09:40.332279",
     "exception": false,
     "start_time": "2025-01-13T07:09:40.314692",
     "status": "completed"
    },
    "tags": []
   },
   "source": [
    "## Summary Statistics"
   ]
  },
  {
   "cell_type": "markdown",
   "id": "49d4d0a4",
   "metadata": {
    "papermill": {
     "duration": 0.018088,
     "end_time": "2025-01-13T07:09:40.362357",
     "exception": false,
     "start_time": "2025-01-13T07:09:40.344269",
     "status": "completed"
    },
    "tags": []
   },
   "source": [
    "### Descriptive Statistics for num_sold"
   ]
  },
  {
   "cell_type": "code",
   "execution_count": 9,
   "id": "33bb6dd7",
   "metadata": {
    "execution": {
     "iopub.execute_input": "2025-01-13T07:09:40.390322Z",
     "iopub.status.busy": "2025-01-13T07:09:40.389950Z",
     "iopub.status.idle": "2025-01-13T07:09:40.427711Z",
     "shell.execute_reply": "2025-01-13T07:09:40.426693Z"
    },
    "papermill": {
     "duration": 0.05317,
     "end_time": "2025-01-13T07:09:40.429599",
     "exception": false,
     "start_time": "2025-01-13T07:09:40.376429",
     "status": "completed"
    },
    "tags": []
   },
   "outputs": [
    {
     "data": {
      "text/plain": [
       "count    221259.000000\n",
       "mean        752.527382\n",
       "std         690.165445\n",
       "min           5.000000\n",
       "25%         219.000000\n",
       "50%         605.000000\n",
       "75%        1114.000000\n",
       "max        5939.000000\n",
       "Name: num_sold, dtype: float64"
      ]
     },
     "execution_count": 9,
     "metadata": {},
     "output_type": "execute_result"
    }
   ],
   "source": [
    "# Generating summary statistics for the 'num_sold' column\n",
    "\n",
    "df['num_sold'].describe()"
   ]
  },
  {
   "cell_type": "markdown",
   "id": "6d11785e",
   "metadata": {
    "papermill": {
     "duration": 0.010937,
     "end_time": "2025-01-13T07:09:40.451894",
     "exception": false,
     "start_time": "2025-01-13T07:09:40.440957",
     "status": "completed"
    },
    "tags": []
   },
   "source": [
    "### Unique Values for Categorical Columns"
   ]
  },
  {
   "cell_type": "code",
   "execution_count": 10,
   "id": "21674bf9",
   "metadata": {
    "execution": {
     "iopub.execute_input": "2025-01-13T07:09:40.475162Z",
     "iopub.status.busy": "2025-01-13T07:09:40.474778Z",
     "iopub.status.idle": "2025-01-13T07:09:40.534045Z",
     "shell.execute_reply": "2025-01-13T07:09:40.532753Z"
    },
    "papermill": {
     "duration": 0.073084,
     "end_time": "2025-01-13T07:09:40.536042",
     "exception": false,
     "start_time": "2025-01-13T07:09:40.462958",
     "status": "completed"
    },
    "tags": []
   },
   "outputs": [
    {
     "name": "stdout",
     "output_type": "stream",
     "text": [
      "['Canada' 'Finland' 'Italy' 'Kenya' 'Norway' 'Singapore']\n",
      "['Discount Stickers' 'Stickers for Less' 'Premium Sticker Mart']\n",
      "['Holographic Goose' 'Kaggle' 'Kaggle Tiers' 'Kerneler'\n",
      " 'Kerneler Dark Mode']\n"
     ]
    }
   ],
   "source": [
    "# Checking unique values for categorical columns like 'country', 'store', and 'product'\n",
    "\n",
    "print(df['country'].unique())\n",
    "print(df['store'].unique())\n",
    "print(df['product'].unique())"
   ]
  },
  {
   "cell_type": "markdown",
   "id": "c7f6fa8e",
   "metadata": {
    "papermill": {
     "duration": 0.010907,
     "end_time": "2025-01-13T07:09:40.558965",
     "exception": false,
     "start_time": "2025-01-13T07:09:40.548058",
     "status": "completed"
    },
    "tags": []
   },
   "source": [
    "## Visualizations"
   ]
  },
  {
   "cell_type": "markdown",
   "id": "00489ca8",
   "metadata": {
    "papermill": {
     "duration": 0.011555,
     "end_time": "2025-01-13T07:09:40.582760",
     "exception": false,
     "start_time": "2025-01-13T07:09:40.571205",
     "status": "completed"
    },
    "tags": []
   },
   "source": [
    "### num_sold by date to observe trends and seasonality."
   ]
  },
  {
   "cell_type": "code",
   "execution_count": 11,
   "id": "00fee3d4",
   "metadata": {
    "execution": {
     "iopub.execute_input": "2025-01-13T07:09:40.606058Z",
     "iopub.status.busy": "2025-01-13T07:09:40.605672Z",
     "iopub.status.idle": "2025-01-13T07:09:41.098235Z",
     "shell.execute_reply": "2025-01-13T07:09:41.097115Z"
    },
    "papermill": {
     "duration": 0.506441,
     "end_time": "2025-01-13T07:09:41.100226",
     "exception": false,
     "start_time": "2025-01-13T07:09:40.593785",
     "status": "completed"
    },
    "tags": []
   },
   "outputs": [
    {
     "data": {
      "text/plain": [
       "<Axes: title={'center': 'Total Sales Over Time'}, xlabel='date'>"
      ]
     },
     "execution_count": 11,
     "metadata": {},
     "output_type": "execute_result"
    },
    {
     "data": {
      "image/png": "[encoded data removed]",
      "text/plain": [
       "<Figure size 640x480 with 1 Axes>"
      ]
     },
     "metadata": {},
     "output_type": "display_data"
    }
   ],
   "source": [
    "# Plotting total sales by date to observe trends and seasonality\n",
    "\n",
    "sales_by_date = df.groupby('date')['num_sold'].sum()\n",
    "sales_by_date.plot(title='Total Sales Over Time')"
   ]
  },
  {
   "cell_type": "markdown",
   "id": "8bc600fe",
   "metadata": {
    "papermill": {
     "duration": 0.011753,
     "end_time": "2025-01-13T07:09:41.124355",
     "exception": false,
     "start_time": "2025-01-13T07:09:41.112602",
     "status": "completed"
    },
    "tags": []
   },
   "source": [
    "### visualize sales by country, store, and product to identify high-performing categories."
   ]
  },
  {
   "cell_type": "code",
   "execution_count": 12,
   "id": "59081ad6",
   "metadata": {
    "execution": {
     "iopub.execute_input": "2025-01-13T07:09:41.149989Z",
     "iopub.status.busy": "2025-01-13T07:09:41.149573Z",
     "iopub.status.idle": "2025-01-13T07:09:41.541935Z",
     "shell.execute_reply": "2025-01-13T07:09:41.540764Z"
    },
    "papermill": {
     "duration": 0.40734,
     "end_time": "2025-01-13T07:09:41.543704",
     "exception": false,
     "start_time": "2025-01-13T07:09:41.136364",
     "status": "completed"
    },
    "tags": []
   },
   "outputs": [
    {
     "data": {
      "text/plain": [
       "<Axes: title={'center': 'Sales by Country'}, xlabel='country'>"
      ]
     },
     "execution_count": 12,
     "metadata": {},
     "output_type": "execute_result"
    },
    {
     "data": {
      "image/png": "[encoded data removed]",
      "text/plain": [
       "<Figure size 640x480 with 1 Axes>"
      ]
     },
     "metadata": {},
     "output_type": "display_data"
    }
   ],
   "source": [
    "# Creating bar plots for sales by country, store, and product to identify high-performing categories\n",
    "\n",
    "sales_by_country = df.groupby('country')['num_sold'].sum()\n",
    "sales_by_country.plot(kind='bar', title='Sales by Country')"
   ]
  },
  {
   "cell_type": "code",
   "execution_count": 13,
   "id": "3f64ed24",
   "metadata": {
    "execution": {
     "iopub.execute_input": "2025-01-13T07:09:41.571908Z",
     "iopub.status.busy": "2025-01-13T07:09:41.571500Z",
     "iopub.status.idle": "2025-01-13T07:09:41.851687Z",
     "shell.execute_reply": "2025-01-13T07:09:41.850574Z"
    },
    "papermill": {
     "duration": 0.296267,
     "end_time": "2025-01-13T07:09:41.853687",
     "exception": false,
     "start_time": "2025-01-13T07:09:41.557420",
     "status": "completed"
    },
    "tags": []
   },
   "outputs": [
    {
     "data": {
      "text/plain": [
       "<Axes: title={'center': 'Sales by store'}, xlabel='store'>"
      ]
     },
     "execution_count": 13,
     "metadata": {},
     "output_type": "execute_result"
    },
    {
     "data": {
      "image/png": "[encoded data removed]",
      "text/plain": [
       "<Figure size 640x480 with 1 Axes>"
      ]
     },
     "metadata": {},
     "output_type": "display_data"
    }
   ],
   "source": [
    "sales_by_store = df.groupby('store')['num_sold'].sum()\n",
    "sales_by_store.plot(kind='bar', title='Sales by store')"
   ]
  },
  {
   "cell_type": "code",
   "execution_count": 14,
   "id": "3332fd0a",
   "metadata": {
    "execution": {
     "iopub.execute_input": "2025-01-13T07:09:41.880917Z",
     "iopub.status.busy": "2025-01-13T07:09:41.880549Z",
     "iopub.status.idle": "2025-01-13T07:09:42.158059Z",
     "shell.execute_reply": "2025-01-13T07:09:42.156926Z"
    },
    "papermill": {
     "duration": 0.293308,
     "end_time": "2025-01-13T07:09:42.159985",
     "exception": false,
     "start_time": "2025-01-13T07:09:41.866677",
     "status": "completed"
    },
    "tags": []
   },
   "outputs": [
    {
     "data": {
      "text/plain": [
       "<Axes: title={'center': 'Sales by product'}, xlabel='product'>"
      ]
     },
     "execution_count": 14,
     "metadata": {},
     "output_type": "execute_result"
    },
    {
     "data": {
      "image/png": "[encoded data removed]",
      "text/plain": [
       "<Figure size 640x480 with 1 Axes>"
      ]
     },
     "metadata": {},
     "output_type": "display_data"
    }
   ],
   "source": [
    "sales_by_product = df.groupby('product')['num_sold'].sum()\n",
    "sales_by_product.plot(kind='bar', title='Sales by product')"
   ]
  },
  {
   "cell_type": "markdown",
   "id": "9ab1f2dd",
   "metadata": {
    "papermill": {
     "duration": 0.01305,
     "end_time": "2025-01-13T07:09:42.186806",
     "exception": false,
     "start_time": "2025-01-13T07:09:42.173756",
     "status": "completed"
    },
    "tags": []
   },
   "source": [
    "### Outlier Detection\n",
    "\n",
    "Use box plots to identify outliers visually.\n",
    "Outliers are typically data points outside the whiskers (1.5 times the interquartile range, IQR)."
   ]
  },
  {
   "cell_type": "code",
   "execution_count": 15,
   "id": "1667d5cc",
   "metadata": {
    "execution": {
     "iopub.execute_input": "2025-01-13T07:09:42.214936Z",
     "iopub.status.busy": "2025-01-13T07:09:42.214539Z",
     "iopub.status.idle": "2025-01-13T07:09:42.240834Z",
     "shell.execute_reply": "2025-01-13T07:09:42.239557Z"
    },
    "papermill": {
     "duration": 0.042695,
     "end_time": "2025-01-13T07:09:42.242848",
     "exception": false,
     "start_time": "2025-01-13T07:09:42.200153",
     "status": "completed"
    },
    "tags": []
   },
   "outputs": [
    {
     "name": "stdout",
     "output_type": "stream",
     "text": [
      "Number of Outliers: 6630\n"
     ]
    }
   ],
   "source": [
    "# Calculate Outlier Bounds Using IQR\n",
    "# Calculating Interquartile Range (IQR) to identify potential outliers\n",
    "# Filtering rows where 'num_sold' is outside the lower and upper bounds\n",
    "\n",
    "# Recalculate Q1, Q3, and IQR\n",
    "Q1 = df['num_sold'].quantile(0.25)\n",
    "Q3 = df['num_sold'].quantile(0.75)\n",
    "IQR = Q3 - Q1\n",
    "\n",
    "# Define lower and upper bounds\n",
    "lower_bound = Q1 - 1.5 * IQR\n",
    "upper_bound = Q3 + 1.5 * IQR\n",
    "\n",
    "# Filter outliers\n",
    "outliers = df[(df['num_sold'] < lower_bound) | (df['num_sold'] > upper_bound)]\n",
    "print(f\"Number of Outliers: {len(outliers)}\")"
   ]
  },
  {
   "cell_type": "code",
   "execution_count": 16,
   "id": "3578dc18",
   "metadata": {
    "execution": {
     "iopub.execute_input": "2025-01-13T07:09:42.272689Z",
     "iopub.status.busy": "2025-01-13T07:09:42.272282Z",
     "iopub.status.idle": "2025-01-13T07:09:42.698386Z",
     "shell.execute_reply": "2025-01-13T07:09:42.697338Z"
    },
    "papermill": {
     "duration": 0.443517,
     "end_time": "2025-01-13T07:09:42.700249",
     "exception": false,
     "start_time": "2025-01-13T07:09:42.256732",
     "status": "completed"
    },
    "tags": []
   },
   "outputs": [
    {
     "data": {
      "text/plain": [
       "<Figure size 1000x600 with 0 Axes>"
      ]
     },
     "metadata": {},
     "output_type": "display_data"
    },
    {
     "data": {
      "image/png": "[encoded data removed]",
      "text/plain": [
       "<Figure size 640x480 with 1 Axes>"
      ]
     },
     "metadata": {},
     "output_type": "display_data"
    }
   ],
   "source": [
    "# Visualizing outliers using box plots grouped by different categorical features\n",
    "\n",
    "plt.figure(figsize=(10, 6))\n",
    "df.boxplot(column='num_sold', by='country', grid=False)\n",
    "plt.title(\"Outliers in 'num_sold' by Country\")\n",
    "plt.suptitle(\"\")  # Removes the default matplotlib title\n",
    "plt.ylabel('Number of Units Sold')\n",
    "plt.xlabel('Country')\n",
    "plt.show()"
   ]
  },
  {
   "cell_type": "code",
   "execution_count": 17,
   "id": "40d8328c",
   "metadata": {
    "execution": {
     "iopub.execute_input": "2025-01-13T07:09:42.730997Z",
     "iopub.status.busy": "2025-01-13T07:09:42.730642Z",
     "iopub.status.idle": "2025-01-13T07:09:43.137254Z",
     "shell.execute_reply": "2025-01-13T07:09:43.136072Z"
    },
    "papermill": {
     "duration": 0.423727,
     "end_time": "2025-01-13T07:09:43.139068",
     "exception": false,
     "start_time": "2025-01-13T07:09:42.715341",
     "status": "completed"
    },
    "tags": []
   },
   "outputs": [
    {
     "data": {
      "text/plain": [
       "<Figure size 1200x600 with 0 Axes>"
      ]
     },
     "metadata": {},
     "output_type": "display_data"
    },
    {
     "data": {
      "image/png": "[encoded data removed]",
      "text/plain": [
       "<Figure size 640x480 with 1 Axes>"
      ]
     },
     "metadata": {},
     "output_type": "display_data"
    }
   ],
   "source": [
    "plt.figure(figsize=(12, 6))\n",
    "df.boxplot(column='num_sold', by='store', grid=False)\n",
    "plt.title(\"Outliers in 'num_sold' by Store\")\n",
    "plt.suptitle(\"\")\n",
    "plt.ylabel('Number of Units Sold')\n",
    "plt.xlabel('Store')\n",
    "plt.show()"
   ]
  },
  {
   "cell_type": "code",
   "execution_count": 18,
   "id": "4853f9c1",
   "metadata": {
    "execution": {
     "iopub.execute_input": "2025-01-13T07:09:43.171346Z",
     "iopub.status.busy": "2025-01-13T07:09:43.170931Z",
     "iopub.status.idle": "2025-01-13T07:09:43.620975Z",
     "shell.execute_reply": "2025-01-13T07:09:43.619756Z"
    },
    "papermill": {
     "duration": 0.46824,
     "end_time": "2025-01-13T07:09:43.622889",
     "exception": false,
     "start_time": "2025-01-13T07:09:43.154649",
     "status": "completed"
    },
    "tags": []
   },
   "outputs": [
    {
     "data": {
      "text/plain": [
       "<Figure size 1200x600 with 0 Axes>"
      ]
     },
     "metadata": {},
     "output_type": "display_data"
    },
    {
     "data": {
      "image/png": "[encoded data removed]",
      "text/plain": [
       "<Figure size 640x480 with 1 Axes>"
      ]
     },
     "metadata": {},
     "output_type": "display_data"
    }
   ],
   "source": [
    "plt.figure(figsize=(12, 6))\n",
    "df.boxplot(column='num_sold', by='product', grid=False)\n",
    "plt.title(\"Outliers in 'num_sold' by Product\")\n",
    "plt.suptitle(\"\")\n",
    "plt.ylabel('Number of Units Sold')\n",
    "plt.xlabel('Product')\n",
    "plt.show()"
   ]
  },
  {
   "cell_type": "code",
   "execution_count": 19,
   "id": "7dfce8ff",
   "metadata": {
    "execution": {
     "iopub.execute_input": "2025-01-13T07:09:43.656923Z",
     "iopub.status.busy": "2025-01-13T07:09:43.656513Z",
     "iopub.status.idle": "2025-01-13T07:09:43.856362Z",
     "shell.execute_reply": "2025-01-13T07:09:43.854997Z"
    },
    "papermill": {
     "duration": 0.219014,
     "end_time": "2025-01-13T07:09:43.858271",
     "exception": false,
     "start_time": "2025-01-13T07:09:43.639257",
     "status": "completed"
    },
    "tags": []
   },
   "outputs": [
    {
     "data": {
      "image/png": "[encoded data removed]",
      "text/plain": [
       "<Figure size 1000x600 with 1 Axes>"
      ]
     },
     "metadata": {},
     "output_type": "display_data"
    }
   ],
   "source": [
    "plt.figure(figsize=(10, 6))\n",
    "sns.boxplot(x=df['num_sold'])\n",
    "plt.title(\"Overall Outliers in 'num_sold'\")\n",
    "plt.xlabel('Number of Units Sold')\n",
    "plt.show()"
   ]
  },
  {
   "cell_type": "markdown",
   "id": "71b1288f",
   "metadata": {
    "papermill": {
     "duration": 0.016497,
     "end_time": "2025-01-13T07:09:43.891504",
     "exception": false,
     "start_time": "2025-01-13T07:09:43.875007",
     "status": "completed"
    },
    "tags": []
   },
   "source": [
    "Majority of Data:\n",
    "\n",
    "The majority of the data points lie within the box (spanning the interquartile range, IQR) and the whiskers.\n",
    "Most num_sold values are concentrated below approximately 1000 units.\n",
    "Outliers:\n",
    "\n",
    "There are a significant number of outliers beyond the upper whisker, with extreme values reaching up to 6000 units sold.\n",
    "These outliers could represent genuine high sales events (e.g., holiday sales) or data anomalies."
   ]
  },
  {
   "cell_type": "code",
   "execution_count": 20,
   "id": "568f14da",
   "metadata": {
    "execution": {
     "iopub.execute_input": "2025-01-13T07:09:43.925867Z",
     "iopub.status.busy": "2025-01-13T07:09:43.925447Z",
     "iopub.status.idle": "2025-01-13T07:09:43.938229Z",
     "shell.execute_reply": "2025-01-13T07:09:43.936990Z"
    },
    "papermill": {
     "duration": 0.031768,
     "end_time": "2025-01-13T07:09:43.939838",
     "exception": false,
     "start_time": "2025-01-13T07:09:43.908070",
     "status": "completed"
    },
    "tags": []
   },
   "outputs": [
    {
     "name": "stdout",
     "output_type": "stream",
     "text": [
      "Outliers by Country:\n",
      "country\n",
      "Canada         11\n",
      "Finland        11\n",
      "Norway       6521\n",
      "Singapore      87\n",
      "dtype: int64\n",
      "Outliers by Store:\n",
      "store\n",
      "Discount Stickers          1\n",
      "Premium Sticker Mart    4175\n",
      "Stickers for Less       2454\n",
      "dtype: int64\n",
      "Outliers by Product:\n",
      "product\n",
      "Kaggle                4169\n",
      "Kaggle Tiers          2347\n",
      "Kerneler                 2\n",
      "Kerneler Dark Mode     112\n",
      "dtype: int64\n"
     ]
    }
   ],
   "source": [
    "# Group outliers by country\n",
    "outliers_by_country = outliers.groupby('country').size()\n",
    "print(\"Outliers by Country:\")\n",
    "print(outliers_by_country)\n",
    "\n",
    "# Group outliers by store\n",
    "outliers_by_store = outliers.groupby('store').size()\n",
    "print(\"Outliers by Store:\")\n",
    "print(outliers_by_store)\n",
    "\n",
    "# Group outliers by product\n",
    "outliers_by_product = outliers.groupby('product').size()\n",
    "print(\"Outliers by Product:\")\n",
    "print(outliers_by_product)"
   ]
  },
  {
   "cell_type": "code",
   "execution_count": 21,
   "id": "2a29378e",
   "metadata": {
    "execution": {
     "iopub.execute_input": "2025-01-13T07:09:43.975024Z",
     "iopub.status.busy": "2025-01-13T07:09:43.974628Z",
     "iopub.status.idle": "2025-01-13T07:09:43.981841Z",
     "shell.execute_reply": "2025-01-13T07:09:43.980414Z"
    },
    "papermill": {
     "duration": 0.026614,
     "end_time": "2025-01-13T07:09:43.983540",
     "exception": false,
     "start_time": "2025-01-13T07:09:43.956926",
     "status": "completed"
    },
    "tags": []
   },
   "outputs": [
    {
     "name": "stdout",
     "output_type": "stream",
     "text": [
      "Outliers by Month:\n",
      "month\n",
      "1     597\n",
      "2     495\n",
      "3     563\n",
      "4     594\n",
      "5     639\n",
      "6     532\n",
      "7     526\n",
      "8     521\n",
      "9     501\n",
      "10    534\n",
      "11    511\n",
      "12    617\n",
      "dtype: int64\n"
     ]
    }
   ],
   "source": [
    "outliers_by_month = outliers.groupby('month').size()\n",
    "print(\"Outliers by Month:\")\n",
    "print(outliers_by_month)"
   ]
  },
  {
   "cell_type": "code",
   "execution_count": 22,
   "id": "56bb1e5e",
   "metadata": {
    "execution": {
     "iopub.execute_input": "2025-01-13T07:09:44.018452Z",
     "iopub.status.busy": "2025-01-13T07:09:44.018111Z",
     "iopub.status.idle": "2025-01-13T07:09:44.025498Z",
     "shell.execute_reply": "2025-01-13T07:09:44.024273Z"
    },
    "papermill": {
     "duration": 0.026994,
     "end_time": "2025-01-13T07:09:44.027312",
     "exception": false,
     "start_time": "2025-01-13T07:09:44.000318",
     "status": "completed"
    },
    "tags": []
   },
   "outputs": [
    {
     "name": "stdout",
     "output_type": "stream",
     "text": [
      "Outliers by Day of the Week:\n",
      "dayofweek\n",
      "0     787\n",
      "1     779\n",
      "2     789\n",
      "3     799\n",
      "4     947\n",
      "5    1109\n",
      "6    1420\n",
      "dtype: int64\n"
     ]
    }
   ],
   "source": [
    "outliers_by_day = outliers.groupby('dayofweek').size()\n",
    "print(\"Outliers by Day of the Week:\")\n",
    "print(outliers_by_day)"
   ]
  },
  {
   "cell_type": "code",
   "execution_count": 23,
   "id": "6dea7df2",
   "metadata": {
    "execution": {
     "iopub.execute_input": "2025-01-13T07:09:44.062783Z",
     "iopub.status.busy": "2025-01-13T07:09:44.062345Z",
     "iopub.status.idle": "2025-01-13T07:09:44.070367Z",
     "shell.execute_reply": "2025-01-13T07:09:44.068970Z"
    },
    "papermill": {
     "duration": 0.027577,
     "end_time": "2025-01-13T07:09:44.072341",
     "exception": false,
     "start_time": "2025-01-13T07:09:44.044764",
     "status": "completed"
    },
    "tags": []
   },
   "outputs": [
    {
     "name": "stdout",
     "output_type": "stream",
     "text": [
      "Outliers by Year:\n",
      "year\n",
      "2010     752\n",
      "2011    1332\n",
      "2012    1273\n",
      "2013    1340\n",
      "2014    1132\n",
      "2015     518\n",
      "2016     283\n",
      "dtype: int64\n"
     ]
    }
   ],
   "source": [
    "outliers_by_year = outliers.groupby('year').size()\n",
    "print(\"Outliers by Year:\")\n",
    "print(outliers_by_year)"
   ]
  },
  {
   "cell_type": "markdown",
   "id": "3a20a0a4",
   "metadata": {
    "papermill": {
     "duration": 0.016889,
     "end_time": "2025-01-13T07:09:44.106306",
     "exception": false,
     "start_time": "2025-01-13T07:09:44.089417",
     "status": "completed"
    },
    "tags": []
   },
   "source": [
    "# Data Preprocessing"
   ]
  },
  {
   "cell_type": "markdown",
   "id": "fc2d5804",
   "metadata": {
    "papermill": {
     "duration": 0.016366,
     "end_time": "2025-01-13T07:09:44.139341",
     "exception": false,
     "start_time": "2025-01-13T07:09:44.122975",
     "status": "completed"
    },
    "tags": []
   },
   "source": [
    "## Handle Missing Values"
   ]
  },
  {
   "cell_type": "code",
   "execution_count": 24,
   "id": "5a71aa8f",
   "metadata": {
    "execution": {
     "iopub.execute_input": "2025-01-13T07:09:44.179920Z",
     "iopub.status.busy": "2025-01-13T07:09:44.179158Z",
     "iopub.status.idle": "2025-01-13T07:09:44.297501Z",
     "shell.execute_reply": "2025-01-13T07:09:44.296409Z"
    },
    "papermill": {
     "duration": 0.139113,
     "end_time": "2025-01-13T07:09:44.299403",
     "exception": false,
     "start_time": "2025-01-13T07:09:44.160290",
     "status": "completed"
    },
    "tags": []
   },
   "outputs": [],
   "source": [
    "# replace with zero \n",
    "# Drop rows where 'dataset' is 'train' and 'num_sold' is NaN\n",
    "df = df[~((df['dataset'] == 'train') & (df['num_sold'].isna()))]\n",
    "\n",
    "\n",
    "# df.loc[df['dataset'] == 'train', 'num_sold'] = df.loc[df['dataset'] == 'train', 'num_sold'].fillna(0)"
   ]
  },
  {
   "cell_type": "markdown",
   "id": "f9cf5382",
   "metadata": {
    "papermill": {
     "duration": 0.017122,
     "end_time": "2025-01-13T07:09:44.334488",
     "exception": false,
     "start_time": "2025-01-13T07:09:44.317366",
     "status": "completed"
    },
    "tags": []
   },
   "source": [
    "## Handle Outliers"
   ]
  },
  {
   "cell_type": "code",
   "execution_count": 25,
   "id": "89352216",
   "metadata": {
    "execution": {
     "iopub.execute_input": "2025-01-13T07:09:44.377780Z",
     "iopub.status.busy": "2025-01-13T07:09:44.377273Z",
     "iopub.status.idle": "2025-01-13T07:09:44.390706Z",
     "shell.execute_reply": "2025-01-13T07:09:44.389444Z"
    },
    "papermill": {
     "duration": 0.033736,
     "end_time": "2025-01-13T07:09:44.392665",
     "exception": false,
     "start_time": "2025-01-13T07:09:44.358929",
     "status": "completed"
    },
    "tags": []
   },
   "outputs": [],
   "source": [
    "# Apply a logarithmic transformation to 'num_sold' to reduce skewness and stabilize variance.\n",
    "# This transformation helps to handle outliers by compressing large values, making the data \n",
    "# more suitable for statistical analysis and modeling.\n",
    "df['num_sold'] = np.log(df['num_sold'])\n",
    "\n",
    "# # Apply a logarithmic transformation to 'num_sold' to reduce skewness and stabilize variance.\n",
    "# # Add a small constant (+1) to handle potential zero values, ensuring the transformation is valid.\n",
    "# df['log_num_sold'] = np.log(df['num_sold'] + 1)"
   ]
  },
  {
   "cell_type": "markdown",
   "id": "6ff3ae66",
   "metadata": {
    "papermill": {
     "duration": 0.016688,
     "end_time": "2025-01-13T07:09:44.426778",
     "exception": false,
     "start_time": "2025-01-13T07:09:44.410090",
     "status": "completed"
    },
    "tags": []
   },
   "source": [
    "## Feature Engineering"
   ]
  },
  {
   "cell_type": "markdown",
   "id": "49123920",
   "metadata": {
    "papermill": {
     "duration": 0.016999,
     "end_time": "2025-01-13T07:09:44.460722",
     "exception": false,
     "start_time": "2025-01-13T07:09:44.443723",
     "status": "completed"
    },
    "tags": []
   },
   "source": [
    "### Encoding "
   ]
  },
  {
   "cell_type": "code",
   "execution_count": 26,
   "id": "21c00c16",
   "metadata": {
    "execution": {
     "iopub.execute_input": "2025-01-13T07:09:44.496329Z",
     "iopub.status.busy": "2025-01-13T07:09:44.495807Z",
     "iopub.status.idle": "2025-01-13T07:09:44.886484Z",
     "shell.execute_reply": "2025-01-13T07:09:44.885260Z"
    },
    "papermill": {
     "duration": 0.411519,
     "end_time": "2025-01-13T07:09:44.889093",
     "exception": false,
     "start_time": "2025-01-13T07:09:44.477574",
     "status": "completed"
    },
    "tags": []
   },
   "outputs": [],
   "source": [
    "# Function for Target Encoding multiple categorical columns\n",
    "def target_encoding_multiple_columns(df, target_column, categorical_columns, dataset_column='dataset'):\n",
    "    for col in categorical_columns:\n",
    "        # Calculate target mean for each category in the column using training data\n",
    "        target_mean = df[df[dataset_column] == 'train'].groupby(col)[target_column].mean()\n",
    "\n",
    "        # Map the target mean encoding to the entire dataset\n",
    "        df[f'{col}_encoded'] = df[col].map(target_mean)\n",
    "\n",
    "        # Handle missing values for categories not present in training\n",
    "        df[f'{col}_encoded'].fillna(df[target_column].mean(), inplace=True)\n",
    "\n",
    "    return df\n",
    "# Example usage: Apply Target Encoding to multiple columns\n",
    "categorical_columns = ['country', 'store', 'product']\n",
    "df = target_encoding_multiple_columns(df, target_column='num_sold', categorical_columns=categorical_columns)"
   ]
  },
  {
   "cell_type": "code",
   "execution_count": 27,
   "id": "d939bfca",
   "metadata": {
    "execution": {
     "iopub.execute_input": "2025-01-13T07:09:44.934222Z",
     "iopub.status.busy": "2025-01-13T07:09:44.933843Z",
     "iopub.status.idle": "2025-01-13T07:09:45.185747Z",
     "shell.execute_reply": "2025-01-13T07:09:45.184570Z"
    },
    "papermill": {
     "duration": 0.273175,
     "end_time": "2025-01-13T07:09:45.188368",
     "exception": false,
     "start_time": "2025-01-13T07:09:44.915193",
     "status": "completed"
    },
    "tags": []
   },
   "outputs": [],
   "source": [
    "# Encoding categorical variables (country, store, product) as dummy variables\n",
    "# Avoiding the dummy variable trap by dropping the first category in each column\n",
    "\n",
    "df = pd.get_dummies(df, columns=['country', 'store', 'product'], dtype=int, drop_first=True)"
   ]
  },
  {
   "cell_type": "code",
   "execution_count": 28,
   "id": "e81615a9",
   "metadata": {
    "execution": {
     "iopub.execute_input": "2025-01-13T07:09:45.230329Z",
     "iopub.status.busy": "2025-01-13T07:09:45.229860Z",
     "iopub.status.idle": "2025-01-13T07:09:45.252848Z",
     "shell.execute_reply": "2025-01-13T07:09:45.251735Z"
    },
    "papermill": {
     "duration": 0.043727,
     "end_time": "2025-01-13T07:09:45.255083",
     "exception": false,
     "start_time": "2025-01-13T07:09:45.211356",
     "status": "completed"
    },
    "tags": []
   },
   "outputs": [
    {
     "data": {
      "text/html": [
       "<div>\n",
       "<style scoped>\n",
       "    .dataframe tbody tr th:only-of-type {\n",
       "        vertical-align: middle;\n",
       "    }\n",
       "\n",
       "    .dataframe tbody tr th {\n",
       "        vertical-align: top;\n",
       "    }\n",
       "\n",
       "    .dataframe thead th {\n",
       "        text-align: right;\n",
       "    }\n",
       "</style>\n",
       "<table border=\"1\" class=\"dataframe\">\n",
       "  <thead>\n",
       "    <tr style=\"text-align: right;\">\n",
       "      <th></th>\n",
       "      <th>id</th>\n",
       "      <th>date</th>\n",
       "      <th>num_sold</th>\n",
       "      <th>dataset</th>\n",
       "      <th>month</th>\n",
       "      <th>dayofweek</th>\n",
       "      <th>quarter</th>\n",
       "      <th>weekofyear</th>\n",
       "      <th>year</th>\n",
       "      <th>day</th>\n",
       "      <th>...</th>\n",
       "      <th>country_Italy</th>\n",
       "      <th>country_Kenya</th>\n",
       "      <th>country_Norway</th>\n",
       "      <th>country_Singapore</th>\n",
       "      <th>store_Premium Sticker Mart</th>\n",
       "      <th>store_Stickers for Less</th>\n",
       "      <th>product_Kaggle</th>\n",
       "      <th>product_Kaggle Tiers</th>\n",
       "      <th>product_Kerneler</th>\n",
       "      <th>product_Kerneler Dark Mode</th>\n",
       "    </tr>\n",
       "  </thead>\n",
       "  <tbody>\n",
       "    <tr>\n",
       "      <th>1</th>\n",
       "      <td>1</td>\n",
       "      <td>2010-01-01</td>\n",
       "      <td>6.880384</td>\n",
       "      <td>train</td>\n",
       "      <td>1</td>\n",
       "      <td>4</td>\n",
       "      <td>1</td>\n",
       "      <td>53</td>\n",
       "      <td>2010</td>\n",
       "      <td>1</td>\n",
       "      <td>...</td>\n",
       "      <td>0</td>\n",
       "      <td>0</td>\n",
       "      <td>0</td>\n",
       "      <td>0</td>\n",
       "      <td>0</td>\n",
       "      <td>0</td>\n",
       "      <td>1</td>\n",
       "      <td>0</td>\n",
       "      <td>0</td>\n",
       "      <td>0</td>\n",
       "    </tr>\n",
       "    <tr>\n",
       "      <th>2</th>\n",
       "      <td>2</td>\n",
       "      <td>2010-01-01</td>\n",
       "      <td>6.809039</td>\n",
       "      <td>train</td>\n",
       "      <td>1</td>\n",
       "      <td>4</td>\n",
       "      <td>1</td>\n",
       "      <td>53</td>\n",
       "      <td>2010</td>\n",
       "      <td>1</td>\n",
       "      <td>...</td>\n",
       "      <td>0</td>\n",
       "      <td>0</td>\n",
       "      <td>0</td>\n",
       "      <td>0</td>\n",
       "      <td>0</td>\n",
       "      <td>0</td>\n",
       "      <td>0</td>\n",
       "      <td>1</td>\n",
       "      <td>0</td>\n",
       "      <td>0</td>\n",
       "    </tr>\n",
       "    <tr>\n",
       "      <th>3</th>\n",
       "      <td>3</td>\n",
       "      <td>2010-01-01</td>\n",
       "      <td>6.047372</td>\n",
       "      <td>train</td>\n",
       "      <td>1</td>\n",
       "      <td>4</td>\n",
       "      <td>1</td>\n",
       "      <td>53</td>\n",
       "      <td>2010</td>\n",
       "      <td>1</td>\n",
       "      <td>...</td>\n",
       "      <td>0</td>\n",
       "      <td>0</td>\n",
       "      <td>0</td>\n",
       "      <td>0</td>\n",
       "      <td>0</td>\n",
       "      <td>0</td>\n",
       "      <td>0</td>\n",
       "      <td>0</td>\n",
       "      <td>1</td>\n",
       "      <td>0</td>\n",
       "    </tr>\n",
       "    <tr>\n",
       "      <th>4</th>\n",
       "      <td>4</td>\n",
       "      <td>2010-01-01</td>\n",
       "      <td>6.196444</td>\n",
       "      <td>train</td>\n",
       "      <td>1</td>\n",
       "      <td>4</td>\n",
       "      <td>1</td>\n",
       "      <td>53</td>\n",
       "      <td>2010</td>\n",
       "      <td>1</td>\n",
       "      <td>...</td>\n",
       "      <td>0</td>\n",
       "      <td>0</td>\n",
       "      <td>0</td>\n",
       "      <td>0</td>\n",
       "      <td>0</td>\n",
       "      <td>0</td>\n",
       "      <td>0</td>\n",
       "      <td>0</td>\n",
       "      <td>0</td>\n",
       "      <td>1</td>\n",
       "    </tr>\n",
       "    <tr>\n",
       "      <th>5</th>\n",
       "      <td>5</td>\n",
       "      <td>2010-01-01</td>\n",
       "      <td>5.703782</td>\n",
       "      <td>train</td>\n",
       "      <td>1</td>\n",
       "      <td>4</td>\n",
       "      <td>1</td>\n",
       "      <td>53</td>\n",
       "      <td>2010</td>\n",
       "      <td>1</td>\n",
       "      <td>...</td>\n",
       "      <td>0</td>\n",
       "      <td>0</td>\n",
       "      <td>0</td>\n",
       "      <td>0</td>\n",
       "      <td>0</td>\n",
       "      <td>1</td>\n",
       "      <td>0</td>\n",
       "      <td>0</td>\n",
       "      <td>0</td>\n",
       "      <td>0</td>\n",
       "    </tr>\n",
       "  </tbody>\n",
       "</table>\n",
       "<p>5 rows × 33 columns</p>\n",
       "</div>"
      ],
      "text/plain": [
       "   id       date  num_sold dataset  month  dayofweek  quarter  weekofyear  \\\n",
       "1   1 2010-01-01  6.880384   train      1          4        1          53   \n",
       "2   2 2010-01-01  6.809039   train      1          4        1          53   \n",
       "3   3 2010-01-01  6.047372   train      1          4        1          53   \n",
       "4   4 2010-01-01  6.196444   train      1          4        1          53   \n",
       "5   5 2010-01-01  5.703782   train      1          4        1          53   \n",
       "\n",
       "   year  day  ...  country_Italy  country_Kenya  country_Norway  \\\n",
       "1  2010    1  ...              0              0               0   \n",
       "2  2010    1  ...              0              0               0   \n",
       "3  2010    1  ...              0              0               0   \n",
       "4  2010    1  ...              0              0               0   \n",
       "5  2010    1  ...              0              0               0   \n",
       "\n",
       "   country_Singapore  store_Premium Sticker Mart  store_Stickers for Less  \\\n",
       "1                  0                           0                        0   \n",
       "2                  0                           0                        0   \n",
       "3                  0                           0                        0   \n",
       "4                  0                           0                        0   \n",
       "5                  0                           0                        1   \n",
       "\n",
       "   product_Kaggle  product_Kaggle Tiers  product_Kerneler  \\\n",
       "1               1                     0                 0   \n",
       "2               0                     1                 0   \n",
       "3               0                     0                 1   \n",
       "4               0                     0                 0   \n",
       "5               0                     0                 0   \n",
       "\n",
       "   product_Kerneler Dark Mode  \n",
       "1                           0  \n",
       "2                           0  \n",
       "3                           0  \n",
       "4                           1  \n",
       "5                           0  \n",
       "\n",
       "[5 rows x 33 columns]"
      ]
     },
     "execution_count": 28,
     "metadata": {},
     "output_type": "execute_result"
    }
   ],
   "source": [
    "df.head()"
   ]
  },
  {
   "cell_type": "markdown",
   "id": "f59bd41a",
   "metadata": {
    "papermill": {
     "duration": 0.016877,
     "end_time": "2025-01-13T07:09:45.295902",
     "exception": false,
     "start_time": "2025-01-13T07:09:45.279025",
     "status": "completed"
    },
    "tags": []
   },
   "source": [
    "# Modeling"
   ]
  },
  {
   "cell_type": "markdown",
   "id": "c23ec59f",
   "metadata": {
    "papermill": {
     "duration": 0.017037,
     "end_time": "2025-01-13T07:09:45.330256",
     "exception": false,
     "start_time": "2025-01-13T07:09:45.313219",
     "status": "completed"
    },
    "tags": []
   },
   "source": [
    "## Train-Test Split"
   ]
  },
  {
   "cell_type": "markdown",
   "id": "16d6d334",
   "metadata": {
    "papermill": {
     "duration": 0.017155,
     "end_time": "2025-01-13T07:09:45.364550",
     "exception": false,
     "start_time": "2025-01-13T07:09:45.347395",
     "status": "completed"
    },
    "tags": []
   },
   "source": [
    "For time-series data, splitting must preserve the temporal order of data to avoid data leakage. The training set consists of earlier data points, while the test set includes later data points."
   ]
  },
  {
   "cell_type": "code",
   "execution_count": 29,
   "id": "770a7fd4",
   "metadata": {
    "execution": {
     "iopub.execute_input": "2025-01-13T07:09:45.401916Z",
     "iopub.status.busy": "2025-01-13T07:09:45.401552Z",
     "iopub.status.idle": "2025-01-13T07:09:45.571634Z",
     "shell.execute_reply": "2025-01-13T07:09:45.570430Z"
    },
    "papermill": {
     "duration": 0.191742,
     "end_time": "2025-01-13T07:09:45.573605",
     "exception": false,
     "start_time": "2025-01-13T07:09:45.381863",
     "status": "completed"
    },
    "tags": []
   },
   "outputs": [],
   "source": [
    "# Splitting the training dataset into train and validation sets\n",
    "# Ensuring the split preserves the time series order\n",
    "\n",
    "# Separate train and test datasets\n",
    "train_df = df[df['dataset'] == 'train'].drop(columns=['dataset'], errors='ignore')\n",
    "test_df = df[df['dataset'] == 'test'].drop(columns=['dataset'], errors='ignore')\n",
    "\n",
    "\n",
    "# Drop unnecessary columns from both datasets\n",
    "train_df = train_df.drop(columns=['id'], errors='ignore')\n",
    "test_df = test_df.drop(columns=['num_sold'], errors='ignore')\n",
    "\n",
    "# Sort training data by date to preserve time series order\n",
    "train_df = train_df.sort_values(by='date')\n",
    "\n",
    "\n",
    "# Separate features and target\n",
    "X = train_df.drop(['num_sold'], axis=1)\n",
    "y = train_df['num_sold']\n",
    "\n",
    "\n",
    "# Drop the 'date' column after feature extraction\n",
    "X = X.drop(columns=['date'], errors='ignore')\n",
    "y = y.drop(columns=['date'], errors='ignore')"
   ]
  },
  {
   "cell_type": "code",
   "execution_count": 30,
   "id": "91152b79",
   "metadata": {
    "execution": {
     "iopub.execute_input": "2025-01-13T07:09:45.610731Z",
     "iopub.status.busy": "2025-01-13T07:09:45.610237Z",
     "iopub.status.idle": "2025-01-13T07:09:45.617415Z",
     "shell.execute_reply": "2025-01-13T07:09:45.616358Z"
    },
    "papermill": {
     "duration": 0.028241,
     "end_time": "2025-01-13T07:09:45.619296",
     "exception": false,
     "start_time": "2025-01-13T07:09:45.591055",
     "status": "completed"
    },
    "tags": []
   },
   "outputs": [
    {
     "data": {
      "text/plain": [
       "Index(['month', 'dayofweek', 'quarter', 'weekofyear', 'year', 'day',\n",
       "       'month_sin', 'month_cos', 'day_sin', 'day_cos', 'day_of_week_sin',\n",
       "       'day_of_week_cos', 'week_of_year_sin', 'week_of_year_cos', 'Group',\n",
       "       'country_encoded', 'store_encoded', 'product_encoded',\n",
       "       'country_Finland', 'country_Italy', 'country_Kenya', 'country_Norway',\n",
       "       'country_Singapore', 'store_Premium Sticker Mart',\n",
       "       'store_Stickers for Less', 'product_Kaggle', 'product_Kaggle Tiers',\n",
       "       'product_Kerneler', 'product_Kerneler Dark Mode'],\n",
       "      dtype='object')"
      ]
     },
     "execution_count": 30,
     "metadata": {},
     "output_type": "execute_result"
    }
   ],
   "source": [
    "X.columns"
   ]
  },
  {
   "cell_type": "markdown",
   "id": "0445fcda",
   "metadata": {
    "papermill": {
     "duration": 0.017683,
     "end_time": "2025-01-13T07:09:45.654988",
     "exception": false,
     "start_time": "2025-01-13T07:09:45.637305",
     "status": "completed"
    },
    "tags": []
   },
   "source": [
    "## Modeling with LightGBM"
   ]
  },
  {
   "cell_type": "markdown",
   "id": "d19f2211",
   "metadata": {
    "papermill": {
     "duration": 0.016765,
     "end_time": "2025-01-13T07:09:45.688563",
     "exception": false,
     "start_time": "2025-01-13T07:09:45.671798",
     "status": "completed"
    },
    "tags": []
   },
   "source": [
    "LightGBM in combination with Optuna for hyperparameter optimization."
   ]
  },
  {
   "cell_type": "code",
   "execution_count": 31,
   "id": "19708ae2",
   "metadata": {
    "execution": {
     "iopub.execute_input": "2025-01-13T07:09:45.724045Z",
     "iopub.status.busy": "2025-01-13T07:09:45.723682Z",
     "iopub.status.idle": "2025-01-13T07:09:45.728097Z",
     "shell.execute_reply": "2025-01-13T07:09:45.727096Z"
    },
    "papermill": {
     "duration": 0.024393,
     "end_time": "2025-01-13T07:09:45.729821",
     "exception": false,
     "start_time": "2025-01-13T07:09:45.705428",
     "status": "completed"
    },
    "tags": []
   },
   "outputs": [],
   "source": [
    "# # Define the objective function for Optuna, which evaluates LightGBM's performance\n",
    "# def objective(trial):\n",
    "#     # Suggest hyperparameter values to be optimized by Optuna\n",
    "#     params = {\n",
    "#         \"num_leaves\": trial.suggest_int(\"num_leaves\", 16, 128),  # Maximum leaves in one tree\n",
    "#         \"learning_rate\": trial.suggest_float(\"learning_rate\", 1e-4, 1e-1, log=True),  # Learning rate for gradient boosting\n",
    "#         \"n_estimators\": trial.suggest_int(\"n_estimators\", 100, 1000, step=100),  # Number of boosting rounds\n",
    "#         \"subsample\": trial.suggest_float(\"subsample\", 0.5, 1.0),  # Fraction of samples used per iteration\n",
    "#         \"colsample_bytree\": trial.suggest_float(\"colsample_bytree\", 0.5, 1.0),  # Fraction of features used for each tree\n",
    "#         \"random_state\": 42,  # Ensures reproducibility\n",
    "#     }\n",
    "    \n",
    "    \n",
    "#     # # Use TimeSeriesSplit to preserve temporal order during cross-validation\n",
    "#     # tscv = TimeSeriesSplit(n_splits=3)\n",
    "\n",
    "#         # Group column (e.g., 'group')\n",
    "#     group_col = X['Group']\n",
    "    \n",
    "#     # Define the GroupKFold cross-validation\n",
    "#     gkf = GroupKFold(n_splits=10)\n",
    "#     model = LGBMRegressor(**params)  # Initialize the LightGBM model with current parameters\n",
    "    \n",
    "#     errors = []  # List to store validation errors for each fold\n",
    "#     for train_index, val_index in gkf.split(X, X['Group'], groups=group_col):  # Split training data for cross-validation\n",
    "#         X_train_cv, X_val_cv = X.iloc[train_index], X.iloc[val_index]  # Train/validation splits\n",
    "#         y_train_cv, y_val_cv = y.iloc[train_index], y.iloc[val_index]\n",
    "        \n",
    "\n",
    "        \n",
    "#         model.fit(X_train_cv, y_train_cv)  # Train the model on the current fold\n",
    "#         y_val_pred = model.predict(X_val_cv)  # Predict on the validation set\n",
    "#         errors.append(mean_squared_error(y_val_cv, y_val_pred))  # Calculate and store MSE\n",
    "    \n",
    "#     # Calculate the Root Mean Squared Error (RMSE) for the current trial\n",
    "#     rmse = np.sqrt(np.mean(errors))\n",
    "#     return rmse  # Return RMSE as the objective value for Optuna to minimize\n",
    "\n",
    "# # Initialize an Optuna study for hyperparameter optimization\n",
    "# study = optuna.create_study(direction=\"minimize\")  # Minimize RMSE\n",
    "# study.optimize(objective, n_trials=30)  # Optimize the objective function over 30 trials\n",
    "\n",
    "# # Print the best hyperparameters found during optimization\n",
    "# print(\"Best trial:\", study.best_trial.params)"
   ]
  },
  {
   "cell_type": "markdown",
   "id": "49340e85",
   "metadata": {
    "papermill": {
     "duration": 0.018805,
     "end_time": "2025-01-13T07:09:45.766236",
     "exception": false,
     "start_time": "2025-01-13T07:09:45.747431",
     "status": "completed"
    },
    "tags": []
   },
   "source": [
    "## This is output of optuna : \n",
    "{\n",
    "    'num_leaves': 127, \n",
    "    'learning_rate': 0.0989627523617693, \n",
    "    'n_estimators': 400, \n",
    "    'subsample': 0.8615034945856372, \n",
    "    'colsample_bytree': 0.8050238118519274\n",
    "} "
   ]
  },
  {
   "cell_type": "code",
   "execution_count": 32,
   "id": "1afeab6e",
   "metadata": {
    "execution": {
     "iopub.execute_input": "2025-01-13T07:09:45.801825Z",
     "iopub.status.busy": "2025-01-13T07:09:45.801442Z",
     "iopub.status.idle": "2025-01-13T07:09:51.608657Z",
     "shell.execute_reply": "2025-01-13T07:09:51.607615Z"
    },
    "papermill": {
     "duration": 5.827162,
     "end_time": "2025-01-13T07:09:51.610523",
     "exception": false,
     "start_time": "2025-01-13T07:09:45.783361",
     "status": "completed"
    },
    "tags": []
   },
   "outputs": [
    {
     "name": "stdout",
     "output_type": "stream",
     "text": [
      "[LightGBM] [Warning] Found whitespace in feature_names, replace with underlines\n",
      "[LightGBM] [Info] Auto-choosing row-wise multi-threading, the overhead of testing was 0.014137 seconds.\n",
      "You can set `force_row_wise=true` to remove the overhead.\n",
      "And if memory is not enough, you can set `force_col_wise=true`.\n",
      "[LightGBM] [Info] Total Bins 578\n",
      "[LightGBM] [Info] Number of data points in the train set: 221259, number of used features: 29\n",
      "[LightGBM] [Info] Start training from score 5.925537\n"
     ]
    },
    {
     "data": {
      "text/html": [
       "<style>#sk-container-id-1 {color: black;background-color: white;}#sk-container-id-1 pre{padding: 0;}#sk-container-id-1 div.sk-toggleable {background-color: white;}#sk-container-id-1 label.sk-toggleable__label {cursor: pointer;display: block;width: 100%;margin-bottom: 0;padding: 0.3em;box-sizing: border-box;text-align: center;}#sk-container-id-1 label.sk-toggleable__label-arrow:before {content: \"▸\";float: left;margin-right: 0.25em;color: #696969;}#sk-container-id-1 label.sk-toggleable__label-arrow:hover:before {color: black;}#sk-container-id-1 div.sk-estimator:hover label.sk-toggleable__label-arrow:before {color: black;}#sk-container-id-1 div.sk-toggleable__content {max-height: 0;max-width: 0;overflow: hidden;text-align: left;background-color: #f0f8ff;}#sk-container-id-1 div.sk-toggleable__content pre {margin: 0.2em;color: black;border-radius: 0.25em;background-color: #f0f8ff;}#sk-container-id-1 input.sk-toggleable__control:checked~div.sk-toggleable__content {max-height: 200px;max-width: 100%;overflow: auto;}#sk-container-id-1 input.sk-toggleable__control:checked~label.sk-toggleable__label-arrow:before {content: \"▾\";}#sk-container-id-1 div.sk-estimator input.sk-toggleable__control:checked~label.sk-toggleable__label {background-color: #d4ebff;}#sk-container-id-1 div.sk-label input.sk-toggleable__control:checked~label.sk-toggleable__label {background-color: #d4ebff;}#sk-container-id-1 input.sk-hidden--visually {border: 0;clip: rect(1px 1px 1px 1px);clip: rect(1px, 1px, 1px, 1px);height: 1px;margin: -1px;overflow: hidden;padding: 0;position: absolute;width: 1px;}#sk-container-id-1 div.sk-estimator {font-family: monospace;background-color: #f0f8ff;border: 1px dotted black;border-radius: 0.25em;box-sizing: border-box;margin-bottom: 0.5em;}#sk-container-id-1 div.sk-estimator:hover {background-color: #d4ebff;}#sk-container-id-1 div.sk-parallel-item::after {content: \"\";width: 100%;border-bottom: 1px solid gray;flex-grow: 1;}#sk-container-id-1 div.sk-label:hover label.sk-toggleable__label {background-color: #d4ebff;}#sk-container-id-1 div.sk-serial::before {content: \"\";position: absolute;border-left: 1px solid gray;box-sizing: border-box;top: 0;bottom: 0;left: 50%;z-index: 0;}#sk-container-id-1 div.sk-serial {display: flex;flex-direction: column;align-items: center;background-color: white;padding-right: 0.2em;padding-left: 0.2em;position: relative;}#sk-container-id-1 div.sk-item {position: relative;z-index: 1;}#sk-container-id-1 div.sk-parallel {display: flex;align-items: stretch;justify-content: center;background-color: white;position: relative;}#sk-container-id-1 div.sk-item::before, #sk-container-id-1 div.sk-parallel-item::before {content: \"\";position: absolute;border-left: 1px solid gray;box-sizing: border-box;top: 0;bottom: 0;left: 50%;z-index: -1;}#sk-container-id-1 div.sk-parallel-item {display: flex;flex-direction: column;z-index: 1;position: relative;background-color: white;}#sk-container-id-1 div.sk-parallel-item:first-child::after {align-self: flex-end;width: 50%;}#sk-container-id-1 div.sk-parallel-item:last-child::after {align-self: flex-start;width: 50%;}#sk-container-id-1 div.sk-parallel-item:only-child::after {width: 0;}#sk-container-id-1 div.sk-dashed-wrapped {border: 1px dashed gray;margin: 0 0.4em 0.5em 0.4em;box-sizing: border-box;padding-bottom: 0.4em;background-color: white;}#sk-container-id-1 div.sk-label label {font-family: monospace;font-weight: bold;display: inline-block;line-height: 1.2em;}#sk-container-id-1 div.sk-label-container {text-align: center;}#sk-container-id-1 div.sk-container {/* jupyter's `normalize.less` sets `[hidden] { display: none; }` but bootstrap.min.css set `[hidden] { display: none !important; }` so we also need the `!important` here to be able to override the default hidden behavior on the sphinx rendered scikit-learn.org. See: https://github.com/scikit-learn/scikit-learn/issues/21755 */display: inline-block !important;position: relative;}#sk-container-id-1 div.sk-text-repr-fallback {display: none;}</style><div id=\"sk-container-id-1\" class=\"sk-top-container\"><div class=\"sk-text-repr-fallback\"><pre>LGBMRegressor(colsample_bytree=0.8050238118519274,\n",
       "              learning_rate=0.0989627523617693, n_estimators=400,\n",
       "              num_leaves=127, subsample=0.8615034945856372)</pre><b>In a Jupyter environment, please rerun this cell to show the HTML representation or trust the notebook. <br />On GitHub, the HTML representation is unable to render, please try loading this page with nbviewer.org.</b></div><div class=\"sk-container\" hidden><div class=\"sk-item\"><div class=\"sk-estimator sk-toggleable\"><input class=\"sk-toggleable__control sk-hidden--visually\" id=\"sk-estimator-id-1\" type=\"checkbox\" checked><label for=\"sk-estimator-id-1\" class=\"sk-toggleable__label sk-toggleable__label-arrow\">LGBMRegressor</label><div class=\"sk-toggleable__content\"><pre>LGBMRegressor(colsample_bytree=0.8050238118519274,\n",
       "              learning_rate=0.0989627523617693, n_estimators=400,\n",
       "              num_leaves=127, subsample=0.8615034945856372)</pre></div></div></div></div></div>"
      ],
      "text/plain": [
       "LGBMRegressor(colsample_bytree=0.8050238118519274,\n",
       "              learning_rate=0.0989627523617693, n_estimators=400,\n",
       "              num_leaves=127, subsample=0.8615034945856372)"
      ]
     },
     "execution_count": 32,
     "metadata": {},
     "output_type": "execute_result"
    }
   ],
   "source": [
    "# Separate features (X) and target variable (y) from the training data\n",
    "# Dropping 'num_sold' as it's the target variable\n",
    "# Dropping 'date' to avoid any unintended leakage since it is not used as a feature\n",
    "X = train_df.drop(columns=['num_sold', 'date']).copy()\n",
    "y = train_df['num_sold'].copy()\n",
    "\n",
    "# # Retrieve the best hyperparameters from the Optuna study\n",
    "# best_params = study.best_params\n",
    "# print(\"Best hyperparameters:\", best_params)\n",
    "\n",
    "# Predefined best hyperparameters\n",
    "best_params = {\n",
    "    'num_leaves': 127, \n",
    "    'learning_rate': 0.0989627523617693, \n",
    "    'n_estimators': 400, \n",
    "    'subsample': 0.8615034945856372, \n",
    "    'colsample_bytree': 0.8050238118519274\n",
    "}\n",
    "\n",
    "\n",
    "# Instantiate the LightGBM model with the optimal hyperparameters\n",
    "best_model = LGBMRegressor(**best_params)\n",
    "\n",
    "# Train the model using all available training data (X, y)\n",
    "best_model.fit(X, y)"
   ]
  },
  {
   "cell_type": "code",
   "execution_count": 33,
   "id": "3c5e1fba",
   "metadata": {
    "execution": {
     "iopub.execute_input": "2025-01-13T07:09:51.650180Z",
     "iopub.status.busy": "2025-01-13T07:09:51.649824Z",
     "iopub.status.idle": "2025-01-13T07:09:52.077111Z",
     "shell.execute_reply": "2025-01-13T07:09:52.075790Z"
    },
    "papermill": {
     "duration": 0.448897,
     "end_time": "2025-01-13T07:09:52.079172",
     "exception": false,
     "start_time": "2025-01-13T07:09:51.630275",
     "status": "completed"
    },
    "tags": []
   },
   "outputs": [
    {
     "data": {
      "image/png": "[encoded data removed]",
      "text/plain": [
       "<Figure size 1000x600 with 1 Axes>"
      ]
     },
     "metadata": {},
     "output_type": "display_data"
    }
   ],
   "source": [
    "# Feature importance values\n",
    "# importance = model.feature_importances_\n",
    "importance = best_model.feature_importances_\n",
    "\n",
    "# Feature names\n",
    "feature_names = X.columns if isinstance(X, pd.DataFrame) else [f'Feature {i}' for i in range(X.shape[1])]\n",
    "\n",
    "# Create a DataFrame for visualization\n",
    "importance_df = pd.DataFrame({'Feature': feature_names, 'Importance': importance})\n",
    "importance_df = importance_df.sort_values(by='Importance', ascending=False)\n",
    "\n",
    "# Plot feature importance\n",
    "plt.figure(figsize=(10, 6))\n",
    "plt.barh(importance_df['Feature'], importance_df['Importance'])\n",
    "plt.xlabel(\"Feature Importance\")\n",
    "plt.ylabel(\"Feature\")\n",
    "plt.title(\"LightGBM Feature Importance\")\n",
    "plt.gca().invert_yaxis()\n",
    "plt.show()"
   ]
  },
  {
   "cell_type": "markdown",
   "id": "ac57de80",
   "metadata": {
    "papermill": {
     "duration": 0.018814,
     "end_time": "2025-01-13T07:09:52.117912",
     "exception": false,
     "start_time": "2025-01-13T07:09:52.099098",
     "status": "completed"
    },
    "tags": []
   },
   "source": [
    "# Submition"
   ]
  },
  {
   "cell_type": "code",
   "execution_count": 34,
   "id": "089f66da",
   "metadata": {
    "execution": {
     "iopub.execute_input": "2025-01-13T07:09:52.157544Z",
     "iopub.status.busy": "2025-01-13T07:09:52.157139Z",
     "iopub.status.idle": "2025-01-13T07:09:52.167233Z",
     "shell.execute_reply": "2025-01-13T07:09:52.166102Z"
    },
    "papermill": {
     "duration": 0.032248,
     "end_time": "2025-01-13T07:09:52.169209",
     "exception": false,
     "start_time": "2025-01-13T07:09:52.136961",
     "status": "completed"
    },
    "tags": []
   },
   "outputs": [],
   "source": [
    "# Preprocess test data\n",
    "test_features = test_df.drop(columns=['id', 'date'], errors='ignore')  # Drop unnecessary columns\n",
    "# test_features = test_features.reindex(columns=X.columns, fill_value=0)  # Align columns with training data"
   ]
  },
  {
   "cell_type": "code",
   "execution_count": 35,
   "id": "0f9997a5",
   "metadata": {
    "execution": {
     "iopub.execute_input": "2025-01-13T07:09:52.209120Z",
     "iopub.status.busy": "2025-01-13T07:09:52.208716Z",
     "iopub.status.idle": "2025-01-13T07:09:53.616452Z",
     "shell.execute_reply": "2025-01-13T07:09:53.615256Z"
    },
    "papermill": {
     "duration": 1.430044,
     "end_time": "2025-01-13T07:09:53.618565",
     "exception": false,
     "start_time": "2025-01-13T07:09:52.188521",
     "status": "completed"
    },
    "tags": []
   },
   "outputs": [],
   "source": [
    "test_df['num_sold'] = best_model.predict(test_features)"
   ]
  },
  {
   "cell_type": "code",
   "execution_count": 36,
   "id": "829cac5a",
   "metadata": {
    "execution": {
     "iopub.execute_input": "2025-01-13T07:09:53.659439Z",
     "iopub.status.busy": "2025-01-13T07:09:53.658878Z",
     "iopub.status.idle": "2025-01-13T07:09:53.668491Z",
     "shell.execute_reply": "2025-01-13T07:09:53.667283Z"
    },
    "papermill": {
     "duration": 0.032035,
     "end_time": "2025-01-13T07:09:53.670496",
     "exception": false,
     "start_time": "2025-01-13T07:09:53.638461",
     "status": "completed"
    },
    "tags": []
   },
   "outputs": [],
   "source": [
    "# Reverse log transformation if applied during training\n",
    "test_df['num_sold'] = np.expm1(test_df['num_sold'])  # Use np.expm1 if np.log1p was used during training\n",
    "\n",
    "# Clip predictions to avoid negative values (optional)\n",
    "test_df['num_sold'] = test_df['num_sold'].clip(lower=1)"
   ]
  },
  {
   "cell_type": "code",
   "execution_count": 37,
   "id": "845fab8b",
   "metadata": {
    "execution": {
     "iopub.execute_input": "2025-01-13T07:09:53.711817Z",
     "iopub.status.busy": "2025-01-13T07:09:53.711409Z",
     "iopub.status.idle": "2025-01-13T07:09:53.926424Z",
     "shell.execute_reply": "2025-01-13T07:09:53.924623Z"
    },
    "papermill": {
     "duration": 0.238566,
     "end_time": "2025-01-13T07:09:53.928591",
     "exception": false,
     "start_time": "2025-01-13T07:09:53.690025",
     "status": "completed"
    },
    "tags": []
   },
   "outputs": [
    {
     "name": "stdout",
     "output_type": "stream",
     "text": [
      "Submission file created: submission.csv\n"
     ]
    }
   ],
   "source": [
    "# Create submission file\n",
    "submission = test_df[['id', 'num_sold']]  # Include 'id' and the predicted target column\n",
    "submission.to_csv('submission.csv', index=False)\n",
    "\n",
    "print(\"Submission file created: submission.csv\")"
   ]
  },
  {
   "cell_type": "code",
   "execution_count": 38,
   "id": "a1a654b0",
   "metadata": {
    "execution": {
     "iopub.execute_input": "2025-01-13T07:09:53.970156Z",
     "iopub.status.busy": "2025-01-13T07:09:53.969789Z",
     "iopub.status.idle": "2025-01-13T07:09:53.980277Z",
     "shell.execute_reply": "2025-01-13T07:09:53.979157Z"
    },
    "papermill": {
     "duration": 0.033135,
     "end_time": "2025-01-13T07:09:53.982288",
     "exception": false,
     "start_time": "2025-01-13T07:09:53.949153",
     "status": "completed"
    },
    "tags": []
   },
   "outputs": [
    {
     "data": {
      "text/html": [
       "<div>\n",
       "<style scoped>\n",
       "    .dataframe tbody tr th:only-of-type {\n",
       "        vertical-align: middle;\n",
       "    }\n",
       "\n",
       "    .dataframe tbody tr th {\n",
       "        vertical-align: top;\n",
       "    }\n",
       "\n",
       "    .dataframe thead th {\n",
       "        text-align: right;\n",
       "    }\n",
       "</style>\n",
       "<table border=\"1\" class=\"dataframe\">\n",
       "  <thead>\n",
       "    <tr style=\"text-align: right;\">\n",
       "      <th></th>\n",
       "      <th>id</th>\n",
       "      <th>num_sold</th>\n",
       "    </tr>\n",
       "  </thead>\n",
       "  <tbody>\n",
       "    <tr>\n",
       "      <th>230130</th>\n",
       "      <td>230130</td>\n",
       "      <td>157.652549</td>\n",
       "    </tr>\n",
       "    <tr>\n",
       "      <th>230131</th>\n",
       "      <td>230131</td>\n",
       "      <td>928.924789</td>\n",
       "    </tr>\n",
       "    <tr>\n",
       "      <th>230132</th>\n",
       "      <td>230132</td>\n",
       "      <td>723.461621</td>\n",
       "    </tr>\n",
       "    <tr>\n",
       "      <th>230133</th>\n",
       "      <td>230133</td>\n",
       "      <td>387.270551</td>\n",
       "    </tr>\n",
       "    <tr>\n",
       "      <th>230134</th>\n",
       "      <td>230134</td>\n",
       "      <td>490.652890</td>\n",
       "    </tr>\n",
       "    <tr>\n",
       "      <th>...</th>\n",
       "      <td>...</td>\n",
       "      <td>...</td>\n",
       "    </tr>\n",
       "    <tr>\n",
       "      <th>328675</th>\n",
       "      <td>328675</td>\n",
       "      <td>373.248537</td>\n",
       "    </tr>\n",
       "    <tr>\n",
       "      <th>328676</th>\n",
       "      <td>328676</td>\n",
       "      <td>2338.248412</td>\n",
       "    </tr>\n",
       "    <tr>\n",
       "      <th>328677</th>\n",
       "      <td>328677</td>\n",
       "      <td>1828.987460</td>\n",
       "    </tr>\n",
       "    <tr>\n",
       "      <th>328678</th>\n",
       "      <td>328678</td>\n",
       "      <td>1087.056042</td>\n",
       "    </tr>\n",
       "    <tr>\n",
       "      <th>328679</th>\n",
       "      <td>328679</td>\n",
       "      <td>1322.346211</td>\n",
       "    </tr>\n",
       "  </tbody>\n",
       "</table>\n",
       "<p>98550 rows × 2 columns</p>\n",
       "</div>"
      ],
      "text/plain": [
       "            id     num_sold\n",
       "230130  230130   157.652549\n",
       "230131  230131   928.924789\n",
       "230132  230132   723.461621\n",
       "230133  230133   387.270551\n",
       "230134  230134   490.652890\n",
       "...        ...          ...\n",
       "328675  328675   373.248537\n",
       "328676  328676  2338.248412\n",
       "328677  328677  1828.987460\n",
       "328678  328678  1087.056042\n",
       "328679  328679  1322.346211\n",
       "\n",
       "[98550 rows x 2 columns]"
      ]
     },
     "execution_count": 38,
     "metadata": {},
     "output_type": "execute_result"
    }
   ],
   "source": [
    "submission"
   ]
  },
  {
   "cell_type": "markdown",
   "id": "751d948f",
   "metadata": {
    "papermill": {
     "duration": 0.019355,
     "end_time": "2025-01-13T07:09:54.021364",
     "exception": false,
     "start_time": "2025-01-13T07:09:54.002009",
     "status": "completed"
    },
    "tags": []
   },
   "source": [
    "# Score : 0.08516 \n",
    "# Update, Add TargetEncoder Score : 0.08444 \n",
    "(TargetEncoder and dummy variables both)\n",
    "# Update, Add TargetEncoder Score : 0.08237\n",
    "(I change TimeSeriesSplit to GroupKFold)\n",
    "# It will be updated "
   ]
  },
  {
   "cell_type": "code",
   "execution_count": null,
   "id": "fb938244",
   "metadata": {
    "papermill": {
     "duration": 0.019614,
     "end_time": "2025-01-13T07:09:54.061119",
     "exception": false,
     "start_time": "2025-01-13T07:09:54.041505",
     "status": "completed"
    },
    "tags": []
   },
   "outputs": [],
   "source": []
  }
 ],
 "metadata": {
  "kaggle": {
   "accelerator": "none",
   "dataSources": [
    {
     "databundleVersionId": 10652996,
     "sourceId": 85723,
     "sourceType": "competition"
    }
   ],
   "dockerImageVersionId": 30822,
   "isGpuEnabled": false,
   "isInternetEnabled": true,
   "language": "python",
   "sourceType": "notebook"
  },
  "kernelspec": {
   "display_name": "Python 3",
   "language": "python",
   "name": "python3"
  },
  "language_info": {
   "codemirror_mode": {
    "name": "ipython",
    "version": 3
   },
   "file_extension": ".py",
   "mimetype": "text/x-python",
   "name": "python",
   "nbconvert_exporter": "python",
   "pygments_lexer": "ipython3",
   "version": "3.10.12"
  },
  "papermill": {
   "default_parameters": {},
   "duration": 24.082966,
   "end_time": "2025-01-13T07:09:55.004133",
   "environment_variables": {},
   "exception": null,
   "input_path": "__notebook__.ipynb",
   "output_path": "__notebook__.ipynb",
   "parameters": {},
   "start_time": "2025-01-13T07:09:30.921167",
   "version": "2.6.0"
  }
 },
 "nbformat": 4,
 "nbformat_minor": 5
}
